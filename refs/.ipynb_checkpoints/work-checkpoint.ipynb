{
 "cells": [
  {
   "cell_type": "code",
   "execution_count": 29,
   "id": "ce0f41d3",
   "metadata": {},
   "outputs": [
    {
     "data": {
      "text/plain": [
       "13065"
      ]
     },
     "execution_count": 29,
     "metadata": {},
     "output_type": "execute_result"
    }
   ],
   "source": [
    "import json\n",
    "\n",
    "with open('index.json',\"r\") as f:\n",
    "    index = json.load(f)\n",
    "len(index)"
   ]
  },
  {
   "cell_type": "code",
   "execution_count": 2,
   "id": "3a7acded",
   "metadata": {},
   "outputs": [
    {
     "data": {
      "text/plain": [
       "[[{'MD5': '6786f3c62fbf9021694f6e51cc07fe3c',\n",
       "   'Citation': '[4] T. Kurose et. al.; Tohoku Math. J., 46, 3, 427, 1994.',\n",
       "   'href': 'https://www.jstage.jst.go.jp/article/tmj1949/46/3/46_3_427/_article/-char/ja/',\n",
       "   'domain': 'www.jstage.jst.go.jp',\n",
       "   'ip-address': '160.74.72.32'},\n",
       "  {'refer': 'whois.arin.net',\n",
       "   'inetnum': '160.74.0.0 - 160.74.255.255',\n",
       "   'organisation': 'Administered by ARIN',\n",
       "   'status': 'ALLOCATED PORTABLE',\n",
       "   'whois': 'whois.arin.net',\n",
       "   'changed': '1993-05',\n",
       "   'source': 'APNIC',\n",
       "   'NetRange': '160.74.0.0 - 160.74.255.255',\n",
       "   'CIDR': '160.74.0.0/16',\n",
       "   'NetName': 'APNIC-ERX-160-74-0-0',\n",
       "   'NetHandle': 'NET-160-74-0-0-1',\n",
       "   'Parent': 'NET160 (NET-160-0-0-0-0)',\n",
       "   'NetType': 'Early Registrations, Transferred to APNIC',\n",
       "   'OriginAS': '',\n",
       "   'Organization': 'Asia Pacific Network Information Centre (APNIC)',\n",
       "   'RegDate': '',\n",
       "   'Updated': '2012-01-24',\n",
       "   'Comment': 'help, refer to http://www.apnic.net/apnic-info/whois_search2/abuse-and-spamming',\n",
       "   'Ref': 'https://rdap.arin.net/registry/entity/APNIC',\n",
       "   'ResourceLink': 'http://wq.apnic.net/whois-search/static/search.html',\n",
       "   'OrgName': 'Asia Pacific Network Information Centre',\n",
       "   'OrgId': 'APNIC',\n",
       "   'Address': 'PO Box 3646',\n",
       "   'City': 'South Brisbane',\n",
       "   'StateProv': 'QLD',\n",
       "   'PostalCode': '4101',\n",
       "   'Country': 'AU',\n",
       "   'ReferralServer': 'whois://whois.apnic.net',\n",
       "   'OrgAbuseHandle': 'AWC12-ARIN',\n",
       "   'OrgAbuseName': 'APNIC Whois Contact',\n",
       "   'OrgAbusePhone': '+61 7 3858 3188',\n",
       "   'OrgAbuseEmail': 'search-apnic-not-arin@apnic.net',\n",
       "   'OrgAbuseRef': 'https://rdap.arin.net/registry/entity/AWC12-ARIN',\n",
       "   'OrgTechHandle': 'AWC12-ARIN',\n",
       "   'OrgTechName': 'APNIC Whois Contact',\n",
       "   'OrgTechPhone': '+61 7 3858 3188',\n",
       "   'OrgTechEmail': 'search-apnic-not-arin@apnic.net',\n",
       "   'OrgTechRef': 'https://rdap.arin.net/registry/entity/AWC12-ARIN',\n",
       "   'netname': 'JSTNET',\n",
       "   'country': 'JP',\n",
       "   'descr': 'Japan Science and Technology Agency',\n",
       "   'admin-c': 'JNIC1-AP',\n",
       "   'tech-c': 'JNIC1-AP',\n",
       "   'notify': 'ritu@tokyo.jst.go.jp',\n",
       "   'mnt-by': 'MNT-ERX-JPSCITECHAGEN-NON-JP',\n",
       "   'mnt-irt': 'IRT-JPNIC-JP',\n",
       "   'mnt-lower': 'MAINT-JPNIC',\n",
       "   'last-modified': '2008-09-04T07:29:35Z',\n",
       "   'irt': 'IRT-JPNIC-JP',\n",
       "   'address': '5-3 Yonban-cho',\n",
       "   'e-mail': 'ritu@tokyo.jst.go.jp',\n",
       "   'abuse-mailbox': 'hostmaster@nic.ad.jp',\n",
       "   'auth': '# Filtered',\n",
       "   'remarks': '----------',\n",
       "   'person': 'Ritsuko Nakajima',\n",
       "   'nic-hdl': 'RN20-AP',\n",
       "   'phone': '+81-3-5214-8423',\n",
       "   'fax-no': '+81-3-5214-8400'}],\n",
       " [{'MD5': '344ef5151be171062f42f03e69663ecf',\n",
       "   'Citation': '[13] W. J. Ke et al.; Adv. Mater., 30, 1, 2018.',\n",
       "   'href': 'https://link.springer.com/article/10.1007/s12274-017-1684-2',\n",
       "   'domain': 'link.springer.com',\n",
       "   'ip-address': '151.101.128.95'},\n",
       "  {'refer': 'whois.ripe.net',\n",
       "   'inetnum': '151.0.0.0 - 151.255.255.255',\n",
       "   'organisation': 'Administered by RIPE NCC',\n",
       "   'status': 'LEGACY',\n",
       "   'whois': 'whois.ripe.net',\n",
       "   'changed': '1993-05',\n",
       "   'source': 'IANA'}],\n",
       " [{'MD5': '6e66329891cbb9adb1966e44379cfadf',\n",
       "   'Citation': '[6] G. C. Mills et al.; J. Biol. Chem., 229, 189, 1957.',\n",
       "   'href': 'https://www.sciencedirect.com/science/article/pii/S002192581870608X',\n",
       "   'domain': 'www.sciencedirect.com',\n",
       "   'ip-address': '162.159.129.81'},\n",
       "  {'refer': 'whois.arin.net',\n",
       "   'inetnum': '162.0.0.0 - 162.255.255.255',\n",
       "   'organisation': 'Administered by ARIN',\n",
       "   'status': 'LEGACY',\n",
       "   'whois': 'whois.arin.net',\n",
       "   'changed': '1993-05',\n",
       "   'source': 'IANA',\n",
       "   'NetRange': '162.158.0.0 - 162.159.255.255',\n",
       "   'CIDR': '162.158.0.0/15',\n",
       "   'NetName': 'CLOUDFLARENET',\n",
       "   'NetHandle': 'NET-162-158-0-0-1',\n",
       "   'Parent': 'NET162 (NET-162-0-0-0-0)',\n",
       "   'NetType': 'Direct Allocation',\n",
       "   'OriginAS': 'AS13335',\n",
       "   'Organization': 'Cloudflare, Inc. (CLOUD14)',\n",
       "   'RegDate': '2010-07-09',\n",
       "   'Updated': '2021-07-01',\n",
       "   'Comment': 'All Cloudflare abuse reporting can be done via https://www.cloudflare.com/abuse',\n",
       "   'Ref': 'https://rdap.arin.net/registry/entity/CLOUD14',\n",
       "   'OrgName': 'Cloudflare, Inc.',\n",
       "   'OrgId': 'CLOUD14',\n",
       "   'Address': '101 Townsend Street',\n",
       "   'City': 'San Francisco',\n",
       "   'StateProv': 'CA',\n",
       "   'PostalCode': '94107',\n",
       "   'Country': 'US',\n",
       "   'OrgRoutingHandle': 'CLOUD146-ARIN',\n",
       "   'OrgRoutingName': 'Cloudflare-NOC',\n",
       "   'OrgRoutingPhone': '+1-650-319-8930',\n",
       "   'OrgRoutingEmail': 'noc@cloudflare.com',\n",
       "   'OrgRoutingRef': 'https://rdap.arin.net/registry/entity/CLOUD146-ARIN',\n",
       "   'OrgAbuseHandle': 'ABUSE2916-ARIN',\n",
       "   'OrgAbuseName': 'Abuse',\n",
       "   'OrgAbusePhone': '+1-650-319-8930',\n",
       "   'OrgAbuseEmail': 'abuse@cloudflare.com',\n",
       "   'OrgAbuseRef': 'https://rdap.arin.net/registry/entity/ABUSE2916-ARIN',\n",
       "   'OrgNOCHandle': 'CLOUD146-ARIN',\n",
       "   'OrgNOCName': 'Cloudflare-NOC',\n",
       "   'OrgNOCPhone': '+1-650-319-8930',\n",
       "   'OrgNOCEmail': 'noc@cloudflare.com',\n",
       "   'OrgNOCRef': 'https://rdap.arin.net/registry/entity/CLOUD146-ARIN',\n",
       "   'OrgTechHandle': 'ADMIN2521-ARIN',\n",
       "   'OrgTechName': 'Admin',\n",
       "   'OrgTechPhone': '+1-650-319-8930',\n",
       "   'OrgTechEmail': 'rir@cloudflare.com',\n",
       "   'OrgTechRef': 'https://rdap.arin.net/registry/entity/ADMIN2521-ARIN',\n",
       "   'RNOCHandle': 'NOC11962-ARIN',\n",
       "   'RNOCName': 'NOC',\n",
       "   'RNOCPhone': '+1-650-319-8930',\n",
       "   'RNOCEmail': 'noc@cloudflare.com',\n",
       "   'RNOCRef': 'https://rdap.arin.net/registry/entity/NOC11962-ARIN',\n",
       "   'RAbuseHandle': 'ABUSE2916-ARIN',\n",
       "   'RAbuseName': 'Abuse',\n",
       "   'RAbusePhone': '+1-650-319-8930',\n",
       "   'RAbuseEmail': 'abuse@cloudflare.com',\n",
       "   'RAbuseRef': 'https://rdap.arin.net/registry/entity/ABUSE2916-ARIN',\n",
       "   'RTechHandle': 'ADMIN2521-ARIN',\n",
       "   'RTechName': 'Admin',\n",
       "   'RTechPhone': '+1-650-319-8930',\n",
       "   'RTechEmail': 'rir@cloudflare.com',\n",
       "   'RTechRef': 'https://rdap.arin.net/registry/entity/ADMIN2521-ARIN'}],\n",
       " [{'MD5': '2afc4dfb14e55c6face649a1d0c1025b',\n",
       "   'Citation': '[1] L. V. Alexander et al.; Journal of Geophysical Research, 111, 3, 2006.',\n",
       "   'href': 'https://agupubs.onlinelibrary.wiley.com/doi/abs/10.1029/2006JD007103',\n",
       "   'domain': 'agupubs.onlinelibrary.wiley.com',\n",
       "   'ip-address': '2606:4700:7::a29f:8257'},\n",
       "  {'inet6num': '2600:0:0:0:0:0:0:0/12',\n",
       "   'organisation': 'ARIN',\n",
       "   'status': 'ALLOCATED',\n",
       "   'whois': 'whois.arin.net',\n",
       "   'changed': '2006-10-03',\n",
       "   'source': 'IANA',\n",
       "   'NetRange': '2606:4700:: - 2606:4700:FFFF:FFFF:FFFF:FFFF:FFFF:FFFF',\n",
       "   'CIDR': '2606:4700::/32',\n",
       "   'NetName': 'CLOUDFLARENET',\n",
       "   'NetHandle': 'NET6-2606-4700-1',\n",
       "   'Parent': 'NET6-2600 (NET6-2600-1)',\n",
       "   'NetType': 'Direct Allocation',\n",
       "   'OriginAS': 'AS13335',\n",
       "   'Organization': 'Cloudflare, Inc. (CLOUD14)',\n",
       "   'RegDate': '2010-07-09',\n",
       "   'Updated': '2021-07-01',\n",
       "   'Comment': 'All Cloudflare abuse reporting can be done via https://www.cloudflare.com/abuse',\n",
       "   'Ref': 'https://rdap.arin.net/registry/entity/CLOUD14',\n",
       "   'OrgName': 'Cloudflare, Inc.',\n",
       "   'OrgId': 'CLOUD14',\n",
       "   'Address': '101 Townsend Street',\n",
       "   'City': 'San Francisco',\n",
       "   'StateProv': 'CA',\n",
       "   'PostalCode': '94107',\n",
       "   'Country': 'US',\n",
       "   'OrgNOCHandle': 'CLOUD146-ARIN',\n",
       "   'OrgNOCName': 'Cloudflare-NOC',\n",
       "   'OrgNOCPhone': '+1-650-319-8930',\n",
       "   'OrgNOCEmail': 'noc@cloudflare.com',\n",
       "   'OrgNOCRef': 'https://rdap.arin.net/registry/entity/CLOUD146-ARIN',\n",
       "   'OrgAbuseHandle': 'ABUSE2916-ARIN',\n",
       "   'OrgAbuseName': 'Abuse',\n",
       "   'OrgAbusePhone': '+1-650-319-8930',\n",
       "   'OrgAbuseEmail': 'abuse@cloudflare.com',\n",
       "   'OrgAbuseRef': 'https://rdap.arin.net/registry/entity/ABUSE2916-ARIN',\n",
       "   'OrgTechHandle': 'ADMIN2521-ARIN',\n",
       "   'OrgTechName': 'Admin',\n",
       "   'OrgTechPhone': '+1-650-319-8930',\n",
       "   'OrgTechEmail': 'rir@cloudflare.com',\n",
       "   'OrgTechRef': 'https://rdap.arin.net/registry/entity/ADMIN2521-ARIN',\n",
       "   'OrgRoutingHandle': 'CLOUD146-ARIN',\n",
       "   'OrgRoutingName': 'Cloudflare-NOC',\n",
       "   'OrgRoutingPhone': '+1-650-319-8930',\n",
       "   'OrgRoutingEmail': 'noc@cloudflare.com',\n",
       "   'OrgRoutingRef': 'https://rdap.arin.net/registry/entity/CLOUD146-ARIN',\n",
       "   'RTechHandle': 'ADMIN2521-ARIN',\n",
       "   'RTechName': 'Admin',\n",
       "   'RTechPhone': '+1-650-319-8930',\n",
       "   'RTechEmail': 'rir@cloudflare.com',\n",
       "   'RTechRef': 'https://rdap.arin.net/registry/entity/ADMIN2521-ARIN',\n",
       "   'RAbuseHandle': 'ABUSE2916-ARIN',\n",
       "   'RAbuseName': 'Abuse',\n",
       "   'RAbusePhone': '+1-650-319-8930',\n",
       "   'RAbuseEmail': 'abuse@cloudflare.com',\n",
       "   'RAbuseRef': 'https://rdap.arin.net/registry/entity/ABUSE2916-ARIN',\n",
       "   'RNOCHandle': 'NOC11962-ARIN',\n",
       "   'RNOCName': 'NOC',\n",
       "   'RNOCPhone': '+1-650-319-8930',\n",
       "   'RNOCEmail': 'noc@cloudflare.com',\n",
       "   'RNOCRef': 'https://rdap.arin.net/registry/entity/NOC11962-ARIN'}],\n",
       " [{'MD5': '42a6845a557bef704ad8ac9cb4461d43',\n",
       "   'Citation': '[1] J. M. Tarascon et al.; Nature, 414, 359, 2001.',\n",
       "   'href': 'https://www.nature.com/articles/nmat3367',\n",
       "   'domain': 'www.nature.com',\n",
       "   'ip-address': '151.101.0.95'},\n",
       "  {'refer': 'whois.ripe.net',\n",
       "   'inetnum': '151.0.0.0 - 151.255.255.255',\n",
       "   'organisation': 'Administered by RIPE NCC',\n",
       "   'status': 'LEGACY',\n",
       "   'whois': 'whois.ripe.net',\n",
       "   'changed': '1993-05',\n",
       "   'source': 'IANA'}]]"
      ]
     },
     "execution_count": 2,
     "metadata": {},
     "output_type": "execute_result"
    }
   ],
   "source": [
    "import json\n",
    "\n",
    "with open('whois.json',\"r\") as f:\n",
    "    whois = json.load(f)\n",
    "whois[:5]"
   ]
  },
  {
   "cell_type": "code",
   "execution_count": 17,
   "id": "b5525789",
   "metadata": {},
   "outputs": [
    {
     "data": {
      "text/plain": [
       "315"
      ]
     },
     "execution_count": 17,
     "metadata": {},
     "output_type": "execute_result"
    }
   ],
   "source": [
    "with open('geolocation.json',\"r\") as f:\n",
    "    geolocation = json.load(f)\n",
    "len(geolocation)"
   ]
  },
  {
   "cell_type": "code",
   "execution_count": 10,
   "id": "95dc4190",
   "metadata": {},
   "outputs": [
    {
     "name": "stdout",
     "output_type": "stream",
     "text": [
      "{'status': 'success', 'continent': 'North America', 'continentCode': 'NA', 'country': 'United States', 'countryCode': 'US', 'region': 'CA', 'regionName': 'California', 'city': 'San Jose', 'district': '', 'zip': '95123', 'lat': 37.2507, 'lon': -121.836, 'timezone': 'America/Los_Angeles', 'currency': 'USD', 'isp': 'Comcast Cable Communications, LLC', 'org': 'Comcast Cable Communications', 'as': 'AS7922 Comcast Cable Communications, LLC', 'hosting': False, 'query': '24.5.1.180'}\n"
     ]
    }
   ],
   "source": [
    "for geo in geolocation:\n",
    "    print(geo[1])\n",
    "    break"
   ]
  },
  {
   "cell_type": "code",
   "execution_count": 11,
   "id": "417e7d66",
   "metadata": {},
   "outputs": [],
   "source": [
    "g = [geo[1] for geo in geolocation]"
   ]
  },
  {
   "cell_type": "code",
   "execution_count": 13,
   "id": "99d875fa",
   "metadata": {},
   "outputs": [
    {
     "data": {
      "text/plain": [
       "{'status': 'success',\n",
       " 'continent': 'North America',\n",
       " 'continentCode': 'NA',\n",
       " 'country': 'United States',\n",
       " 'countryCode': 'US',\n",
       " 'region': 'CA',\n",
       " 'regionName': 'California',\n",
       " 'city': 'San Jose',\n",
       " 'district': '',\n",
       " 'zip': '95123',\n",
       " 'lat': 37.2507,\n",
       " 'lon': -121.836,\n",
       " 'timezone': 'America/Los_Angeles',\n",
       " 'currency': 'USD',\n",
       " 'isp': 'Comcast Cable Communications, LLC',\n",
       " 'org': 'Comcast Cable Communications',\n",
       " 'as': 'AS7922 Comcast Cable Communications, LLC',\n",
       " 'hosting': False,\n",
       " 'query': '24.5.1.180'}"
      ]
     },
     "execution_count": 13,
     "metadata": {},
     "output_type": "execute_result"
    }
   ],
   "source": [
    "g[0]"
   ]
  },
  {
   "cell_type": "code",
   "execution_count": 14,
   "id": "61311275",
   "metadata": {},
   "outputs": [],
   "source": [
    "reform = []\n",
    "for geo in g:\n",
    "    query = geo.pop('query', None)\n",
    "    new = {query:geo}\n",
    "    reform.append(new)"
   ]
  },
  {
   "cell_type": "code",
   "execution_count": 16,
   "id": "9b34ddd7",
   "metadata": {},
   "outputs": [
    {
     "data": {
      "text/plain": [
       "315"
      ]
     },
     "execution_count": 16,
     "metadata": {},
     "output_type": "execute_result"
    }
   ],
   "source": [
    "len(reform)"
   ]
  },
  {
   "cell_type": "code",
   "execution_count": 2,
   "id": "7d4bc708",
   "metadata": {},
   "outputs": [
    {
     "name": "stdout",
     "output_type": "stream",
     "text": [
      "1006\n"
     ]
    }
   ],
   "source": [
    "import json\n",
    "if 1 == 1:\n",
    "    with open('dns-lookup.json',\"r\") as f:\n",
    "        dns = json.load(f)\n",
    "    dns_data = []\n",
    "    for citation in dns:\n",
    "        if \"href\" not in citation[0]:\n",
    "            continue\n",
    "        if \"ip-address\" not in citation[-1]:\n",
    "            continue\n",
    "        key_list = [\"MD5\",\"Citation\",\"href\"]\n",
    "        dict1 = {}\n",
    "        for key in key_list:\n",
    "            dict1[key] = citation[0][key]\n",
    "        dns_dict = {**dict1,**citation[-1]}\n",
    "        dns_data.append(dns_dict)\n",
    "\n",
    "    unique_ip = [dns[\"ip-address\"] for dns in dns_data]\n",
    "    unique_ip = list(set(unique_ip))\n",
    "    print(len(unique_ip))\n"
   ]
  },
  {
   "cell_type": "code",
   "execution_count": 3,
   "id": "76f8a1f9",
   "metadata": {},
   "outputs": [],
   "source": [
    "unique_ip = unique_ip[1:]"
   ]
  },
  {
   "cell_type": "code",
   "execution_count": 6,
   "id": "81eb1e10",
   "metadata": {},
   "outputs": [
    {
     "name": "stdout",
     "output_type": "stream",
     "text": [
      "1\n",
      "2\n",
      "3\n",
      "4\n",
      "5\n"
     ]
    }
   ],
   "source": [
    "from bs4 import BeautifulSoup\n",
    "import requests\n",
    "\n",
    "geo_dict = []\n",
    "exceptions = []\n",
    "a = 0\n",
    "for ip_address in unique_ip:\n",
    "    url = \"http://ip-api.com/json/\"+ip_address+\"?fields=28897279\"\n",
    "    try:\n",
    "        geolocation = BeautifulSoup(requests.get(url).content, \"html.parser\")\n",
    "        geo_dict.append(json.loads(str(geolocation())))\n",
    "    except:\n",
    "        exceptions.append(ip_address)\n",
    "    a+=1\n",
    "    print(a)"
   ]
  },
  {
   "cell_type": "code",
   "execution_count": 31,
   "id": "d3fa9f3e",
   "metadata": {},
   "outputs": [
    {
     "data": {
      "text/plain": [
       "['133.26.200.10',\n",
       " '34.240.197.114',\n",
       " '172.67.0.206',\n",
       " '122.114.65.136',\n",
       " '165.215.200.239']"
      ]
     },
     "execution_count": 31,
     "metadata": {},
     "output_type": "execute_result"
    }
   ],
   "source": [
    "exceptions"
   ]
  },
  {
   "cell_type": "code",
   "execution_count": 32,
   "id": "b0920b39",
   "metadata": {},
   "outputs": [
    {
     "data": {
      "text/plain": [
       "[]"
      ]
     },
     "execution_count": 32,
     "metadata": {},
     "output_type": "execute_result"
    }
   ],
   "source": [
    "json.loads(str(geolocation()))"
   ]
  },
  {
   "cell_type": "code",
   "execution_count": 33,
   "id": "05211bb0",
   "metadata": {},
   "outputs": [
    {
     "data": {
      "text/plain": []
     },
     "execution_count": 33,
     "metadata": {},
     "output_type": "execute_result"
    }
   ],
   "source": [
    "geolocation"
   ]
  },
  {
   "cell_type": "code",
   "execution_count": null,
   "id": "e86a0fb6",
   "metadata": {},
   "outputs": [],
   "source": []
  }
 ],
 "metadata": {
  "kernelspec": {
   "display_name": "Python 3",
   "language": "python",
   "name": "python3"
  },
  "language_info": {
   "codemirror_mode": {
    "name": "ipython",
    "version": 3
   },
   "file_extension": ".py",
   "mimetype": "text/x-python",
   "name": "python",
   "nbconvert_exporter": "python",
   "pygments_lexer": "ipython3",
   "version": "3.8.8"
  }
 },
 "nbformat": 4,
 "nbformat_minor": 5
}
