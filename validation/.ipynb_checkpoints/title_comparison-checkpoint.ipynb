{
 "cells": [
  {
   "cell_type": "markdown",
   "id": "bc908d03",
   "metadata": {},
   "source": [
    "# Comparing Titles with UniKorea's repository"
   ]
  },
  {
   "cell_type": "code",
   "execution_count": 397,
   "id": "da211b11",
   "metadata": {},
   "outputs": [],
   "source": [
    "# load data\n",
    "import json\n",
    "with open('master_dict.json',\"r\") as f:\n",
    "    master_dict = json.load(f)\n",
    "\n",
    "import json\n",
    "with open('unikorea_crawl.json',\"r\") as f:\n",
    "    unikorea_crawl = json.load(f)"
   ]
  },
  {
   "cell_type": "code",
   "execution_count": 398,
   "id": "4b937ad2",
   "metadata": {},
   "outputs": [],
   "source": [
    "import difflib\n",
    "from operator import itemgetter\n",
    "\n",
    "comparison = []\n",
    "\n",
    "for subject,data in unikorea_crawl.items():\n",
    "    for volume in data:\n",
    "        ## finding journal match\n",
    "        vol,no = volume[0][:2]\n",
    "        hashes = []\n",
    "        \n",
    "        ## iterating master_dict for hashes\n",
    "        for md5hash,metadata in master_dict.items():\n",
    "            j = metadata[\"Journal Info\"]\n",
    "            if j[\"Name\"] == subject:\n",
    "                if j[\"Volume\"] == vol:\n",
    "                    if j[\"No\"] == no:\n",
    "                        hashes.append(md5hash)\n",
    "        \n",
    "        ## keying those hashes to compare information:\n",
    "        nkresearch = []\n",
    "        for h in hashes:\n",
    "            title = master_dict[h][\"Title\"].strip()\n",
    "            author = \",\".join(master_dict[h][\"Author\"])\n",
    "            nkresearch.append([title,author])\n",
    "        \n",
    "        nkresearch = sorted(nkresearch, key=itemgetter(0))\n",
    "        unikorea = [article[:2] for article in volume[1]]\n",
    "        unikorea = sorted(unikorea, key=itemgetter(0))\n",
    "        \n",
    "        comparison.append([subject,vol,no,nkresearch,unikorea])\n"
   ]
  },
  {
   "cell_type": "code",
   "execution_count": 399,
   "id": "ac018a19",
   "metadata": {},
   "outputs": [],
   "source": [
    "def levenshtein_sort(diff1,diff2):\n",
    "    cands1 = [diff[0] for diff in diff1]\n",
    "    cands2 = [diff[0] for diff in diff2]\n",
    "    \n",
    "    match_idx = []\n",
    "    for i,cand1 in enumerate(cands1):\n",
    "        distances= [levenshtein_distance(cand1,cand2) for cand2 in cands2]\n",
    "        best_idx = distances.index(min(distances))\n",
    "        match_idx.append(best_idx)\n",
    "    duplicate = [idx for idx, item in enumerate(match_idx) if item in match_idx[:idx]]\n",
    "    diff2_matched = [diff2[i] for i in match_idx]\n",
    "    return diff1,diff2_matched"
   ]
  },
  {
   "cell_type": "code",
   "execution_count": 400,
   "id": "1285c7cf",
   "metadata": {},
   "outputs": [],
   "source": [
    "# pip install difflib\n",
    "import difflib\n",
    "# pip install python-Levenshtein\n",
    "from Levenshtein import distance as levenshtein_distance\n",
    "comparison2 = comparison\n",
    "nkresearch_missing = []\n",
    "unikorea_missing = []\n",
    "comparison3 = []\n",
    "\n",
    "for collection in comparison2:\n",
    "    nkresearch,unikorea = collection[-2:]\n",
    "    \n",
    "    if nkresearch:\n",
    "        nkresearch=sorted(nkresearch)\n",
    "        unikorea=sorted(unikorea)\n",
    "        \n",
    "        if unikorea == nkresearch:\n",
    "            comparison3.append(collection)\n",
    "            continue\n",
    "            \n",
    "        if len(unikorea) == len(nkresearch):\n",
    "            same = [article for article in nkresearch if article in unikorea]\n",
    "            nkresearch_diff = [article for article in nkresearch if article not in unikorea]\n",
    "            unikorea_diff = [article for article in unikorea if article not in nkresearch]\n",
    "            aligned_nkr,aligned_uni = levenshtein_sort(nkresearch_diff,unikorea_diff)\n",
    "            comparison3.append([collection[:3],same+aligned_nkr,same+aligned_uni])\n",
    "        \n",
    "        elif len(nkresearch) > len(unikorea):\n",
    "            diff = [article for article in nkresearch if article not in unikorea]\n",
    "            matched = []\n",
    "            candidates = [article for article in unikorea if article not in nkresearch]\n",
    "            for article in diff:\n",
    "                title,author = article\n",
    "                close_match = difflib.get_close_matches(title,[cand[0] for cand in candidates],n=1,)\n",
    "                if close_match:\n",
    "                    # remove from diff\n",
    "                    diff.remove(article)\n",
    "                    matched_title = \"\".join(close_match)\n",
    "                    matched.append([article,[a for a in candidates if matched_title in a][0]])\n",
    "                    candidates.remove([a for a in candidates if matched_title in a][0])\n",
    "            \n",
    "            if len(diff) == len(nkresearch) - len(unikorea):\n",
    "                unikorea_missing.append([collection[:3],diff])\n",
    "                aligned_uni = same + [m[0] for m in matched]\n",
    "                aligned_nkr = same + [m[1] for m in matched]\n",
    "                comparison3.append([collection[:3],aligned_nkr,aligned_uni])\n",
    "            \n",
    "            elif len(diff) - len(candidates) == len(nkresearch) - len(unikorea):\n",
    "                mm = [m[1] for m in matched]\n",
    "                nkresearch_missing.append([collection[:3],candidates])\n",
    "                unikorea_missing.append([collection[:3],diff])\n",
    "                aligned_uni = same + [m[0] for m in matched]\n",
    "                aligned_nkr = same + [m[1] for m in matched]\n",
    "                comparison3.append([collection[:3],aligned_nkr,aligned_uni])\n",
    "        \n",
    "        # if nkresearch may be missing articles\n",
    "        elif len(unikorea) > len(nkresearch):\n",
    "            unikorea = sorted(unikorea)\n",
    "            nkresearch = sorted(nkresearch)\n",
    "            \n",
    "            same = [article for article in unikorea if article in nkresearch]\n",
    "            diff = [article for article in unikorea if article not in same]\n",
    "            \n",
    "            matched = []\n",
    "            candidates = [article for article in nkresearch if article not in unikorea]\n",
    "            for article in diff:\n",
    "                title,author = article\n",
    "                close_match = difflib.get_close_matches(title,[cand[0] for cand in candidates],n=1,)\n",
    "                if close_match:\n",
    "                    # remove from diff\n",
    "                    diff.remove(article)\n",
    "                    matched_title = \"\".join(close_match)\n",
    "                    matched.append([article,[a for a in candidates if matched_title in a][0]])\n",
    "                    candidates.remove([a for a in candidates if matched_title in a][0])\n",
    "            \n",
    "            # found all matches\n",
    "            if len(diff) == len(unikorea) - len(nkresearch):\n",
    "                nkresearch_missing.append([collection[:3],diff])\n",
    "                aligned_uni = same + [m[0] for m in matched]\n",
    "                aligned_nkr = same + [m[1] for m in matched]\n",
    "                comparison3.append([collection[:3],aligned_nkr,aligned_uni])\n",
    "            \n",
    "            elif len(diff) - len(candidates) == len(unikorea) - len(nkresearch):\n",
    "                mm = [m[1] for m in matched]\n",
    "                nkresearch_missing.append([collection[:3],diff])\n",
    "                unikorea_missing.append([collection[:3],candidates])\n",
    "                aligned_uni = same + [m[0] for m in matched]\n",
    "                aligned_nkr = same + [m[1] for m in matched]\n",
    "                comparison3.append([collection[:3],aligned_nkr,aligned_uni])\n",
    "\n",
    "# rematching"
   ]
  },
  {
   "cell_type": "code",
   "execution_count": 401,
   "id": "2df55b7e",
   "metadata": {},
   "outputs": [],
   "source": [
    "matched = []\n",
    "uni_missing = []\n",
    "nkr_missing = []\n",
    "for i,n in enumerate(nkresearch_missing):\n",
    "    for ii,u in enumerate(unikorea_missing):\n",
    "        if n[0] == u[0]:\n",
    "            nkresearch,unikorea = n[1],u[1]\n",
    "            if len(unikorea) < len(nkresearch):\n",
    "                aligned_uni,aligned_nkr = levenshtein_sort(unikorea,nkresearch)\n",
    "                matched.append([n[0],aligned_nkr,aligned_uni])\n",
    "                remains = [article for article in nkresearch if article not in aligned_nkr]\n",
    "                nkr_missing.append([n[0],remains])\n",
    "            else:\n",
    "                aligned_nkr,aligned_uni = levenshtein_sort(nkresearch,unikorea)\n",
    "                matched.append([n[0],aligned_nkr,aligned_uni])\n",
    "                remains = [article for article in unikorea if article not in aligned_uni]\n",
    "                uni_missing.append([n[0],remains])\n",
    "                \n",
    "for match in matched:\n",
    "    for i,c in enumerate(comparison3):\n",
    "        if match[0] == c[0]:\n",
    "            comparison3[i] = [c[0],c[1]+match[2],c[2]+ match[1]]"
   ]
  },
  {
   "cell_type": "markdown",
   "id": "c8a9958b",
   "metadata": {},
   "source": [
    "# Pt I: NkResearch's \"Missing\" Articles"
   ]
  },
  {
   "cell_type": "markdown",
   "id": "08b844cb",
   "metadata": {},
   "source": [
    "These articles from UniKorea's repository were not matched to any NkResearch article, suggesting NkResearch may be missing these entries."
   ]
  },
  {
   "cell_type": "code",
   "execution_count": 402,
   "id": "fa7a8427",
   "metadata": {},
   "outputs": [
    {
     "data": {
      "text/plain": [
       "[[['철학,경제학', 61, 4],\n",
       "  [['고려시대 수공업발전의 우수성', '김옥'],\n",
       "   ['백두의 혁명정신, 백두의 칼바람정신은 우리 군대와 인민이 안고 살아야 할 영원한 혁명정신', '김봉덕'],\n",
       "   ['생산자원의 구성과 그 변화의 합버칙성에 대한 리해', '정명남'],\n",
       "   ['영생에 대한 리해의 력사적 변천과 그 평가', '허광섭'],\n",
       "   ['위대한 수령 김일성동지꼐서 밝히신 로동계급의 당건설의 근본원리와 원칙에 관한 독창적리론', '허철수'],\n",
       "   ['현대부르죠야<련대경제체제론>에서 설교하는 <새로운 경제체제의 모색>에 대한 궤변과 그 반동성', '류정원']]],\n",
       " [['철학,경제학', 60, 4],\n",
       "  [['관광업의 발전이 환경에 미치는 영향과 그 평가방법', '빅정철'],\n",
       "   ['유휴화폐자금동원을 위한 경제조직사업을 개선하는데서 나서는 중요문제', '김영남'],\n",
       "   ['정치사상진지는 사회주의수호전의 승패를 좌우하는 결정적보투', '허철수'],\n",
       "   ['철학의 중심문제해결을 통하여 본 중세 우리 나라 유물론철학의 발전(2)', '박문성'],\n",
       "   ['현실발전의 요구에 맞게 무역회사들의 책임성과 창발성을 높이는데서 나서는 중요한 문제', '최영옥']]],\n",
       " [['어문학', 64, 1], [['우화창작에서 충동을 받는 다양한 계기', '김경준']]]]"
      ]
     },
     "execution_count": 402,
     "metadata": {},
     "output_type": "execute_result"
    }
   ],
   "source": [
    "nkr_missing"
   ]
  },
  {
   "cell_type": "markdown",
   "id": "c98d93b0",
   "metadata": {},
   "source": [
    "Using data from the crawl, all titles from the associated journal are stored to analyze.\n"
   ]
  },
  {
   "cell_type": "code",
   "execution_count": 465,
   "id": "dcdf77f6",
   "metadata": {},
   "outputs": [],
   "source": [
    "all_titles = []\n",
    "for missing in nkr_missing:\n",
    "    a,b,c = missing[0]\n",
    "    for subject,data in unikorea_crawl.items():\n",
    "        for volume in data:\n",
    "            if subject == a and volume[0][0] == b and volume[0][1] == c:\n",
    "                all_titles.append(sorted([article[:2] for article in volume[1]]))"
   ]
  },
  {
   "cell_type": "markdown",
   "id": "00ddf356",
   "metadata": {},
   "source": [
    "The below prints all titles of the first two journals, but highlights the NKR's potentially \"missing\" titles in red."
   ]
  },
  {
   "cell_type": "code",
   "execution_count": 466,
   "id": "a6671aa4",
   "metadata": {},
   "outputs": [
    {
     "name": "stdout",
     "output_type": "stream",
     "text": [
      "['경애하는 김정은동지께서 밝히신 새 세기 교육혁명의 목표는 가장 혁명적이며 인민적인 목표', '김명철']\n",
      "['경애하는 김정은동지께서 밝히신 우리 식의 경제관리방법을 개선완성하는데서 견지하여야 할 원칙', '류운출']\n",
      "['경제개발구개발사업을 적극 밀고나가는것은 현시기 우리앞에 나서는 중요한 과업', '리명진']\n",
      "['경제부문구조에 미치는 새 재료산업의 영향', '한성기']\n",
      "['고려시기 수공업발전의 우수성', '김옥']\n",
      "\u001b[31m['고려시대 수공업발전의 우수성', '김옥']\u001b[0m\n",
      "['과학기술은 지식경제시대 사회발전을 규정하는 기본요인', '림철']\n",
      "['당의 사상을 스스로 받아들이도록 하는것은 사상교양사업의 중요한 문제', '전정식']\n",
      "['대외경제관계를 다각적으로 발전시키는데서 나서는 중요문제', '김홍일']\n",
      "['력사적인 6.15공동선언과 10.4선언은 새 세기 우리 민족이 철저히 리행하여야 할 조국통일의 대강', '문영호']\n",
      "['론증평가에서 나서는 일반적원칙', '박광일']\n",
      "['미에 대한 교육교양의 주요형식과 방법', '김형선']\n",
      "['발전도상나라들사이의 무역협조를 강화하는데서 나서는 중요문제', '리경영']\n",
      "\u001b[31m['백두의 혁명정신, 백두의 칼바람정신은 우리 군대와 인민이 안고 살아야 할 영원한 혁명정신', '김봉덕']\u001b[0m\n",
      "['백두의 혁명정신, 백두의 칼바람정신은 우리 군대와 인민이 안고살아야 할 영원한 혁명정신', '김봉덕']\n",
      "['부동산가격제정의 원리와 방법', '허철환']\n",
      "['사람에게 유리한 자연환경의 기본징표', '정웅']\n",
      "['사회주의사회에서 원의 구매력을 높이는데서 나서는 중요문제', '한영철']\n",
      "['새 에네르기자원개발리용에 대한 통계적연구방법의 중요문제', '김광일']\n",
      "\u001b[31m['생산자원의 구성과 그 변화의 합버칙성에 대한 리해', '정명남']\u001b[0m\n",
      "['생산자원의 구성과 그 변화의 합법칙성에 대한 리해', '정명남']\n",
      "['손익한계점공간을 합리적으로 리용하는것은 재정관리에서 실리보장을 위한 중요한 문제', '리장백']\n",
      "['심리건강에 영향을 주는 스트레스의 발생요인', '안명옥']\n",
      "\u001b[31m['영생에 대한 리해의 력사적 변천과 그 평가', '허광섭']\u001b[0m\n",
      "['영생에 대한 리해의 력사적변천과 그 평가', '허광섭']\n",
      "['온 나라의 수림화, 원림화, 과수원화를 실현하는데서 나서는 중요문제', '김경렬']\n",
      "['우리 나라 철학사에서 사람에 대한 견해의 력사적변천(2)', '로학희']\n",
      "['우리 식의 현대화, 정보화를 적극 다그치는데서 나서는 몇가지 문제', '김성철']\n",
      "['우주산업에 대한 일반적리해', '진정철']\n",
      "['위대한 수령 김일성동지께서 밝히신 로동계급의 당건설의 근본원리와 원칙에 관한 독창적리론', '허철수']\n",
      "\u001b[31m['위대한 수령 김일성동지꼐서 밝히신 로동계급의 당건설의 근본원리와 원칙에 관한 독창적리론', '허철수']\u001b[0m\n",
      "['제국주의자들이 떠드는 사상의 <자유>의 반동성', '박명남']\n",
      "['주체사상이 밝힌 사람에 대한 새로운 관점과 립장', '한은경']\n",
      "['지식경제강국의 중요징표', '손영석']\n",
      "['철학의 근본문제를 순수 인간문제에 귀착시키는 철학적인간학의 주장의 반동성', '홍일호']\n",
      "['통합경영정보체계의 회계기능부분의 본질적특성', '윤광문']\n",
      "['현대부르죠아<련대경제체제론>에서 설교하는 <새로운 경제체제의 모색>에 대한 궤변과 그 반동성', '류정원']\n",
      "['현대부르죠아<진화론적신자유주의>경제리론의 반동성', '채미경']\n",
      "\u001b[31m['현대부르죠야<련대경제체제론>에서 설교하는 <새로운 경제체제의 모색>에 대한 궤변과 그 반동성', '류정원']\u001b[0m\n",
      "['현시기 국제금융시장의 변화와 그 특징', '고윤정']\n",
      "['현시기 기본건설투자의 경제적효과성타산에서 나서는 중요문제', '안현일']\n",
      "['현시기 기업체들에서 생산조직을 개선하는것은 현실발전의 요구에 맞게 경제관리를 개선완성하는데서 나서는 중요문제', '박원일']\n",
      "['현시기 분조관리제의 우월성을 높이 발양시키는데서 나서는 중요문제', '김승택']\n",
      "['현시기 자본주의기업들의 특허권람용과 그 부정적후과', '안철주']\n",
      "['현시기 축산업을 발전시키는데서 나서는 중요문제', '문향미']\n",
      "-----------------------------------------------------------------\n",
      "['19세기초 공상적사회주의사상에 대한 분석', '리정범']\n",
      "['<ㅌ,ㄷ>는 우리 당의 영원한 승리의 기치', '한정식']\n",
      "['<헌법적신자유주의>경제리론의 반동성', '정광수']\n",
      "['강성국가건설의 요구에 맞게 사회주의경쟁운동을 힘있게 벌려나가는데서 나서는 중요한 문제', '정명남']\n",
      "['건설원가의 특성과 설계예산건설원가타산에서 나서는 중요한 문제', '두광익']\n",
      "['건설자금공급사업을 개선하는것은 건설의 대번영기를 열어나가는데서 나서는 중요한 문제', '최용남']\n",
      "['경애하는 김정은동지께서 밝히신 우리 녀성들을 혁명의 한쪽수레바퀴를 떠밀고나가는 힘있는 력량으로 내세울데 대한 탁월한 사상리론', '박혜숙']\n",
      "['경제적효과성에 대한 종합적분석방법', '김강석']\n",
      "['관광업의 발전이 환경에 미치는 영향과 그 평가방법', '박정철']\n",
      "\u001b[31m['관광업의 발전이 환경에 미치는 영향과 그 평가방법', '빅정철']\u001b[0m\n",
      "['국가적인 계획타산에 균형표적수법을 적용하는데서 나서는 중요한 문제', '한규수']\n",
      "['국제투자의 변천과 최근동향', '한은정']\n",
      "['금속공업과 화학공업을 쌍기둥으로 하여 인민경제전반을 활성화하고 인민생활을 향상시키는데서 나서는 중요문제', '강춘식']\n",
      "['대안의 사업체계는 경제관리에서 사회주의원칙을 구현할수 있게 하는 가장 우월한 경제관리체계', '차영수']\n",
      "['대외무역을 통한 미국독점자본의 세계경제에 대한 지배와 략탈', '리경영']\n",
      "['림농복합경영대상지선정에서 나서는 중요한 문제', '리정철']\n",
      "['문학예술은 강성국가건설의 힘있는 추동력', '김성일']\n",
      "['생태관광의 출현과 그 발전추세', '리명일']\n",
      "['선군혁명사상은 사회주의위업의 승리를 확고히 담보하는 위대한 사상', '고영학']\n",
      "['수령을 영원히 높이 모시는것은 참다운 도덕관을 세우기 위한 중요한 요구', '김명철']\n",
      "['수출관세를 바로 적용하여 나라의 자원을 보호하기 위한 중요방도', '정춘심']\n",
      "['신념은 혁명가의 생명', '김금남']\n",
      "['위대한 령도자 김정일동지께서 주체철학의 독창성과 우월성을 과학적으로 밝히시여 이룩하신 불멸의 업적', '김동건']\n",
      "['유휴화페자금동원을 위한 경제조직사업을 개선하는데서 나서는 중요문제', '김영남']\n",
      "\u001b[31m['유휴화폐자금동원을 위한 경제조직사업을 개선하는데서 나서는 중요문제', '김영남']\u001b[0m\n",
      "['인구와 생태환경의 균형을 보장하는데서 나서는 중요한 문제', '리련희']\n",
      "['인구의 나이별구조분석에서 나서는 중요한 문제', '박원일']\n",
      "['자금리용에서 기업체들의 책임성과 창발성을 높이는데서 나서는 중요문제', '정광영']\n",
      "['잠업비단공업부문에서 생산예비수자의 과학적인 타산방법', '원광식']\n",
      "['정치사상진지는 사회주의수호전의 승패를 좌우하는 결정적보루', '허철수']\n",
      "\u001b[31m['정치사상진지는 사회주의수호전의 승패를 좌우하는 결정적보투', '허철수']\u001b[0m\n",
      "['주체건축창조에서 민족적특성과 현대성을 결합시키는데서 나서는 기본요구', '류충성']\n",
      "['주체사상은 우리 사회주의의 생명', '한은경']\n",
      "['철학의 중심문제해결을 톨하여 본 중세 우리 나라 유물론철학의 발전 (2)', '박문성']\n",
      "\u001b[31m['철학의 중심문제해결을 통하여 본 중세 우리 나라 유물론철학의 발전(2)', '박문성']\u001b[0m\n",
      "['현시기 록색상품의 개발리용이 사회경제생활에 미치는 영향', '조영남']\n",
      "['현시기 통계리론과 학문발전의 세계적인 추세', '김광일']\n",
      "['현실발전의 요구에 맞게 무역회사들의 책임성과 창발성을 높이는데서 나서는 중요문제', '최영옥']\n",
      "\u001b[31m['현실발전의 요구에 맞게 무역회사들의 책임성과 창발성을 높이는데서 나서는 중요한 문제', '최영옥']\u001b[0m\n",
      "-----------------------------------------------------------------\n"
     ]
    }
   ],
   "source": [
    "def make_red(var):\n",
    "    return \"\\033[31m\"+str(var)+\"\\033[0m\"\n",
    "\n",
    "for i,journal_titles in enumerate(all_titles[:2]):\n",
    "    for title in journal_titles:\n",
    "        if title in nkr_missing[i][1]:\n",
    "            print(make_red(title))\n",
    "        else:\n",
    "            print(title)\n",
    "    print(\"-----------------------------------------------------------------\")"
   ]
  },
  {
   "cell_type": "markdown",
   "id": "ef16f11c",
   "metadata": {},
   "source": [
    "We see that all \"missing\" entries were duplicated entries, hence could not be matched to any NkResearch entries. However, these entries had slight misspellings allowing it to bypass the original duplicate check. Using Levenshtein distance to verify whether the entry directly above or below was the duplicated entry,"
   ]
  },
  {
   "cell_type": "code",
   "execution_count": 467,
   "id": "1c285ecb",
   "metadata": {},
   "outputs": [
    {
     "name": "stdout",
     "output_type": "stream",
     "text": [
      "['경애하는 김정은동지께서 밝히신 새 세기 교육혁명의 목표는 가장 혁명적이며 인민적인 목표', '김명철']\n",
      "['경애하는 김정은동지께서 밝히신 우리 식의 경제관리방법을 개선완성하는데서 견지하여야 할 원칙', '류운출']\n",
      "['경제개발구개발사업을 적극 밀고나가는것은 현시기 우리앞에 나서는 중요한 과업', '리명진']\n",
      "['경제부문구조에 미치는 새 재료산업의 영향', '한성기']\n",
      "['고려시기 수공업발전의 우수성', '김옥']\n",
      "\u001b[31m['고려시대 수공업발전의 우수성', '김옥']\u001b[0m\n",
      "\u001b[34m['고려시기 수공업발전의 우수성', '김옥']\u001b[0m\n",
      "['과학기술은 지식경제시대 사회발전을 규정하는 기본요인', '림철']\n",
      "['당의 사상을 스스로 받아들이도록 하는것은 사상교양사업의 중요한 문제', '전정식']\n",
      "['대외경제관계를 다각적으로 발전시키는데서 나서는 중요문제', '김홍일']\n",
      "['력사적인 6.15공동선언과 10.4선언은 새 세기 우리 민족이 철저히 리행하여야 할 조국통일의 대강', '문영호']\n",
      "['론증평가에서 나서는 일반적원칙', '박광일']\n",
      "['미에 대한 교육교양의 주요형식과 방법', '김형선']\n",
      "['발전도상나라들사이의 무역협조를 강화하는데서 나서는 중요문제', '리경영']\n",
      "\u001b[34m['백두의 혁명정신, 백두의 칼바람정신은 우리 군대와 인민이 안고살아야 할 영원한 혁명정신', '김봉덕']\u001b[0m\n",
      "\u001b[31m['백두의 혁명정신, 백두의 칼바람정신은 우리 군대와 인민이 안고 살아야 할 영원한 혁명정신', '김봉덕']\u001b[0m\n",
      "['백두의 혁명정신, 백두의 칼바람정신은 우리 군대와 인민이 안고살아야 할 영원한 혁명정신', '김봉덕']\n",
      "['부동산가격제정의 원리와 방법', '허철환']\n",
      "['사람에게 유리한 자연환경의 기본징표', '정웅']\n",
      "['사회주의사회에서 원의 구매력을 높이는데서 나서는 중요문제', '한영철']\n",
      "['새 에네르기자원개발리용에 대한 통계적연구방법의 중요문제', '김광일']\n",
      "\u001b[34m['생산자원의 구성과 그 변화의 합법칙성에 대한 리해', '정명남']\u001b[0m\n",
      "\u001b[31m['생산자원의 구성과 그 변화의 합버칙성에 대한 리해', '정명남']\u001b[0m\n",
      "['생산자원의 구성과 그 변화의 합법칙성에 대한 리해', '정명남']\n",
      "['손익한계점공간을 합리적으로 리용하는것은 재정관리에서 실리보장을 위한 중요한 문제', '리장백']\n",
      "['심리건강에 영향을 주는 스트레스의 발생요인', '안명옥']\n",
      "\u001b[34m['영생에 대한 리해의 력사적변천과 그 평가', '허광섭']\u001b[0m\n",
      "\u001b[31m['영생에 대한 리해의 력사적 변천과 그 평가', '허광섭']\u001b[0m\n",
      "['영생에 대한 리해의 력사적변천과 그 평가', '허광섭']\n",
      "['온 나라의 수림화, 원림화, 과수원화를 실현하는데서 나서는 중요문제', '김경렬']\n",
      "['우리 나라 철학사에서 사람에 대한 견해의 력사적변천(2)', '로학희']\n",
      "['우리 식의 현대화, 정보화를 적극 다그치는데서 나서는 몇가지 문제', '김성철']\n",
      "['우주산업에 대한 일반적리해', '진정철']\n",
      "['위대한 수령 김일성동지께서 밝히신 로동계급의 당건설의 근본원리와 원칙에 관한 독창적리론', '허철수']\n",
      "\u001b[31m['위대한 수령 김일성동지꼐서 밝히신 로동계급의 당건설의 근본원리와 원칙에 관한 독창적리론', '허철수']\u001b[0m\n",
      "\u001b[34m['위대한 수령 김일성동지께서 밝히신 로동계급의 당건설의 근본원리와 원칙에 관한 독창적리론', '허철수']\u001b[0m\n",
      "['제국주의자들이 떠드는 사상의 <자유>의 반동성', '박명남']\n",
      "['주체사상이 밝힌 사람에 대한 새로운 관점과 립장', '한은경']\n",
      "['지식경제강국의 중요징표', '손영석']\n",
      "['철학의 근본문제를 순수 인간문제에 귀착시키는 철학적인간학의 주장의 반동성', '홍일호']\n",
      "['통합경영정보체계의 회계기능부분의 본질적특성', '윤광문']\n",
      "['현대부르죠아<련대경제체제론>에서 설교하는 <새로운 경제체제의 모색>에 대한 궤변과 그 반동성', '류정원']\n",
      "['현대부르죠아<진화론적신자유주의>경제리론의 반동성', '채미경']\n",
      "\u001b[31m['현대부르죠야<련대경제체제론>에서 설교하는 <새로운 경제체제의 모색>에 대한 궤변과 그 반동성', '류정원']\u001b[0m\n",
      "\u001b[34m['현대부르죠아<련대경제체제론>에서 설교하는 <새로운 경제체제의 모색>에 대한 궤변과 그 반동성', '류정원']\u001b[0m\n",
      "['현시기 국제금융시장의 변화와 그 특징', '고윤정']\n",
      "['현시기 기본건설투자의 경제적효과성타산에서 나서는 중요문제', '안현일']\n",
      "['현시기 기업체들에서 생산조직을 개선하는것은 현실발전의 요구에 맞게 경제관리를 개선완성하는데서 나서는 중요문제', '박원일']\n",
      "['현시기 분조관리제의 우월성을 높이 발양시키는데서 나서는 중요문제', '김승택']\n",
      "['현시기 자본주의기업들의 특허권람용과 그 부정적후과', '안철주']\n",
      "['현시기 축산업을 발전시키는데서 나서는 중요문제', '문향미']\n",
      "-----------------------------------------------------------------\n",
      "['19세기초 공상적사회주의사상에 대한 분석', '리정범']\n",
      "['<ㅌ,ㄷ>는 우리 당의 영원한 승리의 기치', '한정식']\n",
      "['<헌법적신자유주의>경제리론의 반동성', '정광수']\n",
      "['강성국가건설의 요구에 맞게 사회주의경쟁운동을 힘있게 벌려나가는데서 나서는 중요한 문제', '정명남']\n",
      "['건설원가의 특성과 설계예산건설원가타산에서 나서는 중요한 문제', '두광익']\n",
      "['건설자금공급사업을 개선하는것은 건설의 대번영기를 열어나가는데서 나서는 중요한 문제', '최용남']\n",
      "['경애하는 김정은동지께서 밝히신 우리 녀성들을 혁명의 한쪽수레바퀴를 떠밀고나가는 힘있는 력량으로 내세울데 대한 탁월한 사상리론', '박혜숙']\n",
      "['경제적효과성에 대한 종합적분석방법', '김강석']\n",
      "['관광업의 발전이 환경에 미치는 영향과 그 평가방법', '박정철']\n",
      "\u001b[31m['관광업의 발전이 환경에 미치는 영향과 그 평가방법', '빅정철']\u001b[0m\n",
      "\u001b[34m['관광업의 발전이 환경에 미치는 영향과 그 평가방법', '박정철']\u001b[0m\n",
      "['국가적인 계획타산에 균형표적수법을 적용하는데서 나서는 중요한 문제', '한규수']\n",
      "['국제투자의 변천과 최근동향', '한은정']\n",
      "['금속공업과 화학공업을 쌍기둥으로 하여 인민경제전반을 활성화하고 인민생활을 향상시키는데서 나서는 중요문제', '강춘식']\n",
      "['대안의 사업체계는 경제관리에서 사회주의원칙을 구현할수 있게 하는 가장 우월한 경제관리체계', '차영수']\n",
      "['대외무역을 통한 미국독점자본의 세계경제에 대한 지배와 략탈', '리경영']\n",
      "['림농복합경영대상지선정에서 나서는 중요한 문제', '리정철']\n",
      "['문학예술은 강성국가건설의 힘있는 추동력', '김성일']\n",
      "['생태관광의 출현과 그 발전추세', '리명일']\n",
      "['선군혁명사상은 사회주의위업의 승리를 확고히 담보하는 위대한 사상', '고영학']\n",
      "['수령을 영원히 높이 모시는것은 참다운 도덕관을 세우기 위한 중요한 요구', '김명철']\n",
      "['수출관세를 바로 적용하여 나라의 자원을 보호하기 위한 중요방도', '정춘심']\n",
      "['신념은 혁명가의 생명', '김금남']\n",
      "['위대한 령도자 김정일동지께서 주체철학의 독창성과 우월성을 과학적으로 밝히시여 이룩하신 불멸의 업적', '김동건']\n",
      "['유휴화페자금동원을 위한 경제조직사업을 개선하는데서 나서는 중요문제', '김영남']\n",
      "\u001b[31m['유휴화폐자금동원을 위한 경제조직사업을 개선하는데서 나서는 중요문제', '김영남']\u001b[0m\n",
      "\u001b[34m['유휴화페자금동원을 위한 경제조직사업을 개선하는데서 나서는 중요문제', '김영남']\u001b[0m\n",
      "['인구와 생태환경의 균형을 보장하는데서 나서는 중요한 문제', '리련희']\n",
      "['인구의 나이별구조분석에서 나서는 중요한 문제', '박원일']\n",
      "['자금리용에서 기업체들의 책임성과 창발성을 높이는데서 나서는 중요문제', '정광영']\n",
      "['잠업비단공업부문에서 생산예비수자의 과학적인 타산방법', '원광식']\n",
      "['정치사상진지는 사회주의수호전의 승패를 좌우하는 결정적보루', '허철수']\n",
      "\u001b[31m['정치사상진지는 사회주의수호전의 승패를 좌우하는 결정적보투', '허철수']\u001b[0m\n",
      "\u001b[34m['정치사상진지는 사회주의수호전의 승패를 좌우하는 결정적보루', '허철수']\u001b[0m\n",
      "['주체건축창조에서 민족적특성과 현대성을 결합시키는데서 나서는 기본요구', '류충성']\n",
      "['주체사상은 우리 사회주의의 생명', '한은경']\n",
      "['철학의 중심문제해결을 톨하여 본 중세 우리 나라 유물론철학의 발전 (2)', '박문성']\n",
      "\u001b[31m['철학의 중심문제해결을 통하여 본 중세 우리 나라 유물론철학의 발전(2)', '박문성']\u001b[0m\n",
      "\u001b[34m['철학의 중심문제해결을 톨하여 본 중세 우리 나라 유물론철학의 발전 (2)', '박문성']\u001b[0m\n",
      "['현시기 록색상품의 개발리용이 사회경제생활에 미치는 영향', '조영남']\n",
      "['현시기 통계리론과 학문발전의 세계적인 추세', '김광일']\n",
      "['현실발전의 요구에 맞게 무역회사들의 책임성과 창발성을 높이는데서 나서는 중요문제', '최영옥']\n",
      "\u001b[31m['현실발전의 요구에 맞게 무역회사들의 책임성과 창발성을 높이는데서 나서는 중요한 문제', '최영옥']\u001b[0m\n",
      "\u001b[34m['현실발전의 요구에 맞게 무역회사들의 책임성과 창발성을 높이는데서 나서는 중요문제', '최영옥']\u001b[0m\n",
      "-----------------------------------------------------------------\n"
     ]
    }
   ],
   "source": [
    "def make_red(var):\n",
    "    return \"\\033[31m\"+str(var)+\"\\033[0m\"\n",
    "\n",
    "def make_blue(var):\n",
    "    return \"\\033[34m\"+str(var)+\"\\033[0m\"\n",
    "\n",
    "for i,journal_titles in enumerate(all_titles[:2]):\n",
    "    for ii,title in enumerate(journal_titles):\n",
    "        if title in nkr_missing[i][1]:\n",
    "            try:\n",
    "                if title[1] == journal_titles[ii+1][1]:\n",
    "                    print(make_blue(journal_titles[ii+1]))\n",
    "                    print(make_red(title))\n",
    "                    continue\n",
    "            except IndexError:\n",
    "                pass\n",
    "            try:\n",
    "                if title[1] == journal_titles[ii-2][1]:\n",
    "                    print(make_red(title))\n",
    "                    print(make_blue(journal_titles[ii-2]))\n",
    "                    continue\n",
    "            except IndexError:\n",
    "                pass\n",
    "            print(make_red(title))\n",
    "            print(make_blue(journal_titles[ii-1]))\n",
    "        else:\n",
    "            print(title)\n",
    "    print(\"-----------------------------------------------------------------\")"
   ]
  },
  {
   "cell_type": "code",
   "execution_count": 468,
   "id": "b84cf3c2",
   "metadata": {},
   "outputs": [
    {
     "name": "stdout",
     "output_type": "stream",
     "text": [
      "고려시\u001b[32m기\u001b[0m\u001b[31m대\u001b[0m 수공업발전의 우수성\n",
      "백두의 혁명정신, 백두의 칼바람정신은 우리 군대와 인민이 안고\u001b[31m \u001b[0m살아야 할 영원한 혁명정신\n",
      "생산자원의 구성과 그 변화의 합\u001b[32m법\u001b[0m\u001b[31m버\u001b[0m칙성에 대한 리해\n",
      "영생에 대한 리해의 력사적\u001b[31m \u001b[0m변천과 그 평가\n",
      "위대한 수령 김일성동지\u001b[32m께\u001b[0m\u001b[31m꼐\u001b[0m서 밝히신 로동계급의 당건설의 근본원리와 원칙에 관한 독창적리론\n",
      "현대부르죠\u001b[32m아\u001b[0m\u001b[31m야\u001b[0m<련대경제체제론>에서 설교하는 <새로운 경제체제의 모색>에 대한 궤변과 그 반동성\n",
      "관광업의 발전이 환경에 미치는 영향과 그 평가방법\n",
      "유휴화\u001b[32m페\u001b[0m\u001b[31m폐\u001b[0m자금동원을 위한 경제조직사업을 개선하는데서 나서는 중요문제\n",
      "정치사상진지는 사회주의수호전의 승패를 좌우하는 결정적보\u001b[32m루\u001b[0m\u001b[31m투\u001b[0m\n",
      "철학의 중심문제해결을 \u001b[32m톨\u001b[0m\u001b[31m통\u001b[0m하여 본 중세 우리 나라 유물론철학의 발전\u001b[32m \u001b[0m(2)\n",
      "현실발전의 요구에 맞게 무역회사들의 책임성과 창발성을 높이는데서 나서는 중요\u001b[31m한 \u001b[0m문제\n"
     ]
    }
   ],
   "source": [
    "for i,journal_titles in enumerate(all_titles[:2]):\n",
    "    for ii,title in enumerate(journal_titles):\n",
    "        if title in nkr_missing[i][1]:\n",
    "            try:\n",
    "                if title[1] == journal_titles[ii+1][1]:\n",
    "                    print(diff_strings(title[0],journal_titles[ii+1][0]))\n",
    "                    continue\n",
    "            except IndexError:\n",
    "                pass\n",
    "            try:\n",
    "                if title[1] == journal_titles[ii-2][1]:\n",
    "                    print(diff_strings(title[0],journal_titles[ii-2][0]))\n",
    "                    continue\n",
    "            except IndexError:\n",
    "                pass\n",
    "            print(diff_strings(title[0],journal_titles[ii-1][0]))\n"
   ]
  },
  {
   "cell_type": "markdown",
   "id": "bfdf8611",
   "metadata": {},
   "source": [
    "As for the last entry, "
   ]
  },
  {
   "cell_type": "code",
   "execution_count": 473,
   "id": "5f44ecdf",
   "metadata": {},
   "outputs": [
    {
     "name": "stdout",
     "output_type": "stream",
     "text": [
      "[['어문학', 64, 1], [['우화창작에서 충동을 받는 다양한 계기', '김경준']]]\n"
     ]
    }
   ],
   "source": [
    "print(nkr_missing[-1])"
   ]
  },
  {
   "cell_type": "markdown",
   "id": "da3745f5",
   "metadata": {},
   "source": [
    "It seems that NkResearch is genuinely missing this entry. "
   ]
  },
  {
   "cell_type": "code",
   "execution_count": 499,
   "id": "003e5e56",
   "metadata": {},
   "outputs": [
    {
     "name": "stdout",
     "output_type": "stream",
     "text": [
      "Data from the website: \n",
      "Title: <증보문헌비고>(형고)... | Author: 한명길 | Page Range: 3\n",
      "Title: <증보문헌비고>의 <선... | Author: 리명철 | Page Range: 3\n",
      "Title: 도이췰란드어와 조선어에... | Author: 한영남 | Page Range: 3\n",
      "Title: 로어대역사전편찬에서 이... | Author: 최장포 | Page Range: 3\n",
      "Title: 사상교양의 무기로서의 ... | Author: 김성호 | Page Range: 3\n",
      "Title: 성구화된 로어문장구조식... | Author: 김원금 | Page Range: 3\n",
      "Title: 시형상의 본질적속성... | Author: 정두국 | Page Range: 3\n",
      "Title: 심리언어학적분석에 기초... | Author: 리성호 | Page Range: 3\n"
     ]
    }
   ],
   "source": [
    "a,b,c = nkr_missing[-1][0]\n",
    "for subject,data in unikorea_crawl.items():\n",
    "    for volume in data:\n",
    "        if subject == a and volume[0][0] == b and volume[0][1] == c:\n",
    "            unikorea_ling = sorted(volume[1])\n",
    "print(\"Data from the website: \")\n",
    "for entry in unikorea_ling[:8]:\n",
    "    print(\"Title: {}... | Author: {} | Page Range: {}\".format(entry[0][:12],entry[1],3))"
   ]
  },
  {
   "cell_type": "code",
   "execution_count": 494,
   "id": "fd66b470",
   "metadata": {},
   "outputs": [
    {
     "name": "stdout",
     "output_type": "stream",
     "text": [
      "Title: 위대한 수령 김일성동지... | Author: 리금철 | Page Range: 2-10\n",
      "Title: 위대한 령도자 김정일동... | Author: 김명 | Page Range: 11-15\n",
      "Title: 천리마시대문학발전을 추... | Author: 김려숙 | Page Range: 16-24\n",
      "Title: 우리 식 활극영화문학창... | Author: 김성희 | Page Range: 25-33\n",
      "Title: 시형상의 본질적속성... | Author: 정두국 | Page Range: 34-37\n",
      "Title: 사상교양의 무기로서의 ... | Author: 김성호 | Page Range: 38-44\n",
      "Title: 향가《안민가》의 독해에... | Author: 김영황 | Page Range: 45-54\n",
      "Title: 외국인류학생들의 우리 ... | Author: 최승주 | Page Range: 55-60\n",
      "Title: 《증보문헌비고》(형고)... | Author: 한명길 | Page Range: 61-68\n",
      "Title: 《증보문헌비고》의 《선... | Author: 리명철 | Page Range: 69-77\n"
     ]
    }
   ],
   "source": [
    "nkresearch_ling = []\n",
    "for k,v in master_dict.items():\n",
    "    journal = v[\"Journal Info\"]\n",
    "    if journal[\"Name\"] == '어문학' and journal[\"Volume\"] == 64 and journal[\"No\"] == 1:\n",
    "        nkresearch_ling.append([v[\"Title\"],v[\"Author\"],v[\"Start Page\"]-1,v[\"End Page\"]])\n",
    "nkresearch_ling = sorted(nkresearch_ling, key = lambda x: int(x[2]))\n",
    "for entry in nkresearch_ling[:10]:\n",
    "    print(\"Title: {}... | Author: {} | Page Range: {}\".format(entry[0][:12],entry[1][0],str(entry[-2])+\"-\"+str(entry[-1])))"
   ]
  },
  {
   "cell_type": "markdown",
   "id": "0f7f5866",
   "metadata": {},
   "source": [
    "It seems that NkResearch is genuinely missing this entry. "
   ]
  },
  {
   "cell_type": "code",
   "execution_count": 463,
   "id": "91e11e76",
   "metadata": {},
   "outputs": [],
   "source": []
  },
  {
   "cell_type": "code",
   "execution_count": null,
   "id": "52bc755f",
   "metadata": {},
   "outputs": [],
   "source": []
  },
  {
   "cell_type": "markdown",
   "id": "ec3f9a56",
   "metadata": {},
   "source": [
    "# Title Discrepancies\n",
    "\n",
    "All aligned titles will be compared for string similarity. "
   ]
  },
  {
   "cell_type": "code",
   "execution_count": 409,
   "id": "4c1f5fcd",
   "metadata": {},
   "outputs": [],
   "source": [
    "def diff_strings(a, b):\n",
    "    output = []\n",
    "    matcher = difflib.SequenceMatcher(None, a, b)\n",
    "    for opcode, a0, a1, b0, b1 in matcher.get_opcodes():\n",
    "        if opcode == \"equal\":\n",
    "            output.append(a[a0:a1])\n",
    "        elif opcode == \"insert\":\n",
    "            output.append(make_green(b[b0:b1]))\n",
    "        elif opcode == \"delete\":\n",
    "            output.append(make_red(a[a0:a1]))\n",
    "        elif opcode == \"replace\":\n",
    "            output.append(make_green(b[b0:b1]))\n",
    "            output.append(make_red(a[a0:a1]))\n",
    "    return \"\".join(output)"
   ]
  },
  {
   "cell_type": "markdown",
   "id": "e41844f9",
   "metadata": {},
   "source": [
    "Using the function diff_strings( ) defined above, UniKorea's added characters to NkResearch's title are shown in <font color='green'>green</font>; UniKorea's subtracted characters to NkResearch's title are shown in <font color='red'>red</font>.\n",
    "\n",
    "\n",
    "For instance, if NkResearch's title was \"hello world!!\" and UniKorea's title was \"hello wworld\","
   ]
  },
  {
   "cell_type": "code",
   "execution_count": 410,
   "id": "8878ffaa",
   "metadata": {},
   "outputs": [
    {
     "name": "stdout",
     "output_type": "stream",
     "text": [
      "hello w\u001b[32mw\u001b[0morld\u001b[31m!!\u001b[0m\n"
     ]
    }
   ],
   "source": [
    "print(diff_strings(\"hello world!!\",\"hello wworld\"))"
   ]
  },
  {
   "cell_type": "code",
   "execution_count": 411,
   "id": "eeb02f71",
   "metadata": {},
   "outputs": [
    {
     "name": "stdout",
     "output_type": "stream",
     "text": [
      "사회주의보건제도의 우월성을 높이 발양시켜\u001b[32m \u001b[0m나가기 위한 현명한 령도; Levenshtein Distance of 1\n",
      "제2차 세계대전의 전패국-도이췰\u001b[32m한\u001b[0m\u001b[31m란\u001b[0m드와 일본의 과거청산에 대한 비교분석; Levenshtein Distance of 1\n",
      "17세기 후반기이후 화\u001b[32m폐\u001b[0m\u001b[31m페\u001b[0m류통에 대한 실학자들의 견해와 그 진보성; Levenshtein Distance of 1\n",
      "우리 나라에서 자본주의화\u001b[32m폐\u001b[0m\u001b[31m페\u001b[0m제도의 발생발전과 그것을 저해한 일본침략자들의 책동; Levenshtein Distance of 1\n",
      "현대자본주의경제의 악성위기\u001b[32m-\u001b[0m\u001b[31m－\u001b[0m디플레; Levenshtein Distance of 1\n",
      "ㅇ지구 동\u001b[32m-\u001b[0m\u001b[31m－\u001b[0m철광상의 특징; Levenshtein Distance of 1\n",
      "림농복합경영구역에서\u001b[31m의\u001b[0m 사면휴경체계; Levenshtein Distance of 1\n",
      "원격수감화상에서 K\u001b[32m-\u001b[0m\u001b[31m－\u001b[0mS검정에 의한 단층예측의 한가지 방법; Levenshtein Distance of 1\n",
      "유기질석\u001b[32m-\u001b[0m\u001b[31m－\u001b[0m천연고무복합재료의 제조와 특성; Levenshtein Distance of 1\n",
      "혜산시 춘동지구에서 새로 알려진 상부고생대\u001b[32m \u001b[0m식물화석에 대하여; Levenshtein Distance of 1\n"
     ]
    }
   ],
   "source": [
    "for collection in comparison3[:5]:\n",
    "    nkresearch,unikorea = collection[-2:]\n",
    "    for i,article in enumerate(nkresearch):\n",
    "        lev_dist = levenshtein_distance(article[0],unikorea[i][0])\n",
    "        if article[0] != unikorea[i][0]:\n",
    "            print (diff_strings(article[0],unikorea[i][0])+\"; Levenshtein Distance of\",levenshtein_distance(article[0],unikorea[i][0]))\n"
   ]
  },
  {
   "cell_type": "markdown",
   "id": "e38f44b3",
   "metadata": {},
   "source": [
    "As shown above, we see that all different strings (those not equal) have very miniscule string+/- as indicated by levenshtein distance = 1. "
   ]
  },
  {
   "cell_type": "code",
   "execution_count": 412,
   "id": "726e4651",
   "metadata": {},
   "outputs": [
    {
     "name": "stdout",
     "output_type": "stream",
     "text": [
      "Average Levenshtein distance is 0.4254712845243314\n"
     ]
    }
   ],
   "source": [
    "lev_distances = []\n",
    "for collection in comparison3:\n",
    "    nkresearch,unikorea = collection[-2:]\n",
    "    for i,article in enumerate(nkresearch):\n",
    "        lev_dist = levenshtein_distance(article[0],unikorea[i][0])\n",
    "        lev_distances.append(lev_dist)\n",
    "print (\"Average Levenshtein distance is\", sum(lev_distances)/len(lev_distances))"
   ]
  },
  {
   "cell_type": "code",
   "execution_count": 413,
   "id": "798e80a2",
   "metadata": {},
   "outputs": [
    {
     "data": {
      "text/html": [
       "<style  type=\"text/css\" >\n",
       "</style><table id=\"T_7151f_\" style=\"font-size: 12px\"><thead>    <tr>        <th class=\"blank level0\" ></th>        <th class=\"col_heading level0 col0\" >0th</th>        <th class=\"col_heading level0 col1\" >1th</th>        <th class=\"col_heading level0 col2\" >2th</th>        <th class=\"col_heading level0 col3\" >3th</th>        <th class=\"col_heading level0 col4\" >4th</th>        <th class=\"col_heading level0 col5\" >5th</th>        <th class=\"col_heading level0 col6\" >6th</th>        <th class=\"col_heading level0 col7\" >7th</th>        <th class=\"col_heading level0 col8\" >8th</th>        <th class=\"col_heading level0 col9\" >9th</th>    </tr></thead><tbody>\n",
       "                <tr>\n",
       "                        <th id=\"T_7151f_level0_row0\" class=\"row_heading level0 row0\" >Levenshtein Distance</th>\n",
       "                        <td id=\"T_7151f_row0_col0\" class=\"data row0 col0\" >0.000000</td>\n",
       "                        <td id=\"T_7151f_row0_col1\" class=\"data row0 col1\" >0.000000</td>\n",
       "                        <td id=\"T_7151f_row0_col2\" class=\"data row0 col2\" >0.000000</td>\n",
       "                        <td id=\"T_7151f_row0_col3\" class=\"data row0 col3\" >0.000000</td>\n",
       "                        <td id=\"T_7151f_row0_col4\" class=\"data row0 col4\" >0.000000</td>\n",
       "                        <td id=\"T_7151f_row0_col5\" class=\"data row0 col5\" >0.000000</td>\n",
       "                        <td id=\"T_7151f_row0_col6\" class=\"data row0 col6\" >0.000000</td>\n",
       "                        <td id=\"T_7151f_row0_col7\" class=\"data row0 col7\" >0.000000</td>\n",
       "                        <td id=\"T_7151f_row0_col8\" class=\"data row0 col8\" >0.000000</td>\n",
       "                        <td id=\"T_7151f_row0_col9\" class=\"data row0 col9\" >0.000000</td>\n",
       "            </tr>\n",
       "    </tbody></table>"
      ],
      "text/plain": [
       "<pandas.io.formats.style.Styler at 0x7f85930aa340>"
      ]
     },
     "execution_count": 413,
     "metadata": {},
     "output_type": "execute_result"
    }
   ],
   "source": [
    "import numpy as np\n",
    "a = np.array(lev_distances)\n",
    "\n",
    "percentiles_low = {}\n",
    "for v in list(range(0,10)):\n",
    "    p = np.percentile(a, v)\n",
    "    p_str = str(v)+\"th\"\n",
    "    percentiles_low[p_str] = p\n",
    "percentiles_high = {}\n",
    "for v in list(range(90,100)):\n",
    "    p = np.percentile(a, v)\n",
    "    p_str = str(v)+\"th\"\n",
    "    percentiles_high[p_str] = p\n",
    "df1 = pd.DataFrame(percentiles_low, index=['Levenshtein Distance'])\n",
    "df1 = df1.style.set_table_attributes('style=\"font-size: 12px\"')\n",
    "df2 = pd.DataFrame(percentiles_high, index=['Levenshtein Distance'])\n",
    "df2 = df2.style.set_table_attributes('style=\"font-size: 12px\"')\n",
    "df1"
   ]
  },
  {
   "cell_type": "code",
   "execution_count": 414,
   "id": "7725bad3",
   "metadata": {},
   "outputs": [
    {
     "data": {
      "text/html": [
       "<style  type=\"text/css\" >\n",
       "</style><table id=\"T_3cadf_\" style=\"font-size: 12px\"><thead>    <tr>        <th class=\"blank level0\" ></th>        <th class=\"col_heading level0 col0\" >90th</th>        <th class=\"col_heading level0 col1\" >91th</th>        <th class=\"col_heading level0 col2\" >92th</th>        <th class=\"col_heading level0 col3\" >93th</th>        <th class=\"col_heading level0 col4\" >94th</th>        <th class=\"col_heading level0 col5\" >95th</th>        <th class=\"col_heading level0 col6\" >96th</th>        <th class=\"col_heading level0 col7\" >97th</th>        <th class=\"col_heading level0 col8\" >98th</th>        <th class=\"col_heading level0 col9\" >99th</th>    </tr></thead><tbody>\n",
       "                <tr>\n",
       "                        <th id=\"T_3cadf_level0_row0\" class=\"row_heading level0 row0\" >Levenshtein Distance</th>\n",
       "                        <td id=\"T_3cadf_row0_col0\" class=\"data row0 col0\" >1.000000</td>\n",
       "                        <td id=\"T_3cadf_row0_col1\" class=\"data row0 col1\" >2.000000</td>\n",
       "                        <td id=\"T_3cadf_row0_col2\" class=\"data row0 col2\" >2.000000</td>\n",
       "                        <td id=\"T_3cadf_row0_col3\" class=\"data row0 col3\" >2.000000</td>\n",
       "                        <td id=\"T_3cadf_row0_col4\" class=\"data row0 col4\" >2.000000</td>\n",
       "                        <td id=\"T_3cadf_row0_col5\" class=\"data row0 col5\" >2.000000</td>\n",
       "                        <td id=\"T_3cadf_row0_col6\" class=\"data row0 col6\" >2.000000</td>\n",
       "                        <td id=\"T_3cadf_row0_col7\" class=\"data row0 col7\" >3.000000</td>\n",
       "                        <td id=\"T_3cadf_row0_col8\" class=\"data row0 col8\" >4.000000</td>\n",
       "                        <td id=\"T_3cadf_row0_col9\" class=\"data row0 col9\" >6.000000</td>\n",
       "            </tr>\n",
       "    </tbody></table>"
      ],
      "text/plain": [
       "<pandas.io.formats.style.Styler at 0x7f8594fec490>"
      ]
     },
     "execution_count": 414,
     "metadata": {},
     "output_type": "execute_result"
    }
   ],
   "source": [
    "df2"
   ]
  },
  {
   "cell_type": "code",
   "execution_count": 415,
   "id": "fb82bc54",
   "metadata": {},
   "outputs": [],
   "source": [
    "import xlsxwriter\n",
    "\n",
    "row_count = 0\n",
    "with xlsxwriter.Workbook('levenshtein_percentiles.xlsx') as workbook:\n",
    "    worksheet = workbook.add_worksheet()\n",
    "    data_format1 = workbook.add_format({'bold': True, 'fg_color': '#D2F1FF','bottom': 1,'top':1})\n",
    "    for percentiles in [percentiles_low,percentiles_high]:\n",
    "        worksheet.set_row(row_count, cell_format=data_format1)\n",
    "        worksheet.write(row_count,0,\"Percentile\")\n",
    "        for i,row in enumerate(percentiles):\n",
    "            worksheet.write(row_count, i+1, row)\n",
    "        row_count+=1\n",
    "        for i,row in enumerate(percentiles.values()):\n",
    "            worksheet.write(row_count, i+1, row)\n",
    "        worksheet.write(row_count,0,\"Levenshtein Distance\")\n",
    "        row_count+=2\n"
   ]
  },
  {
   "cell_type": "code",
   "execution_count": 416,
   "id": "2f14aebc",
   "metadata": {},
   "outputs": [
    {
     "data": {
      "image/png": "[encoded data removed]",
      "text/plain": [
       "<Figure size 432x288 with 1 Axes>"
      ]
     },
     "metadata": {
      "needs_background": "light"
     },
     "output_type": "display_data"
    }
   ],
   "source": [
    "import pandas as pd\n",
    "import matplotlib.pyplot as plt\n",
    "from collections import Counter,OrderedDict\n",
    "\n",
    "lev_counts = Counter(lev_distances)\n",
    "lev_counts = dict(sorted(lev_counts.items()))\n",
    "df = pd.DataFrame.from_dict(lev_counts, orient='index')\n",
    "df.plot(kind='bar',legend=None,color='tab:red')\n",
    "plt.title('Distribution of Levenshtein Distance')\n",
    "plt.xlabel('Levenshtein Distance')\n",
    "plt.ylabel('Count')\n",
    "plt.show()"
   ]
  },
  {
   "cell_type": "code",
   "execution_count": null,
   "id": "2ab82188",
   "metadata": {},
   "outputs": [],
   "source": []
  },
  {
   "cell_type": "code",
   "execution_count": 417,
   "id": "2b106ed5",
   "metadata": {},
   "outputs": [],
   "source": [
    "import pandas.io.formats.excel\n",
    "\n",
    "lev_dict = {}\n",
    "for collection in comparison3:\n",
    "    nkresearch,unikorea = collection[-2:]\n",
    "    info = collection[0]\n",
    "    info_str = info[0] + \" Vol.\" +str(info[1]) + \" No.\" + str(info[2])\n",
    "    temp = [levenshtein_distance(article[0],unikorea[i][0]) for i,article in enumerate(nkresearch)]\n",
    "    lev_dict[info_str] = temp\n",
    "\n",
    "pandas.io.formats.excel.header_style = None\n",
    "df = pd.DataFrame.from_dict(lev_dict,orient='index')\n",
    "writer = pd.ExcelWriter('levenshtein_by_journal.xlsx', engine='xlsxwriter')\n",
    "df.to_excel(writer, 'Sheet1')\n",
    "workbook = writer.book\n",
    "worksheet = writer.sheets['Sheet1'] \n",
    "\n",
    "header_format = workbook.add_format({\n",
    "        'bold': True,\n",
    "        'text_wrap': False,\n",
    "        'valign': 'top',\n",
    "        'fg_color': '#D2F1FF',\n",
    "        'border': 1})\n",
    "worksheet.write(0, 0, \"Article Index / Levenshtein Distance\", header_format)\n",
    "for col_num, value in enumerate(df.columns.values):\n",
    "    worksheet.write(0, col_num+1, value, header_format)\n",
    "writer.save()"
   ]
  },
  {
   "cell_type": "code",
   "execution_count": 418,
   "id": "9b0e1806",
   "metadata": {},
   "outputs": [],
   "source": [
    "lev_avg = []\n",
    "\n",
    "for collection in comparison3:\n",
    "    nkresearch,unikorea = collection[-2:]\n",
    "    info = collection[0]\n",
    "    temp = [levenshtein_distance(article[0],unikorea[i][0]) for i,article in enumerate(nkresearch)]\n",
    "    average = sum(temp)/len(temp)\n",
    "    lev_avg.append([info[0],info[1],info[2],average])\n",
    "df = pd.DataFrame(lev_avg)\n",
    "writer = pd.ExcelWriter('levenshtein_avg.xlsx', engine='xlsxwriter')\n",
    "df.to_excel(writer, 'Sheet1')\n",
    "workbook = writer.book\n",
    "worksheet = writer.sheets['Sheet1'] \n",
    "\n",
    "header_format = workbook.add_format({\n",
    "        'bold': True,\n",
    "        'text_wrap': False,\n",
    "        'valign': 'top',\n",
    "        'fg_color': '#D2F1FF',\n",
    "        'border': 1})\n",
    "worksheet.write(0, 0, \"\", header_format)\n",
    "header = [\"Subject\",\"Volume\",\"No\",\"Average Levenshtein Distance\"]\n",
    "worksheet.write(0, 0, \"\", header_format)\n",
    "for col_num, value in enumerate(header):\n",
    "    worksheet.write(0, col_num+1, header[col_num], header_format)\n",
    "writer.save()"
   ]
  },
  {
   "cell_type": "markdown",
   "id": "4f57fc52",
   "metadata": {},
   "source": [
    "Still, we will explore sources of all discrepancies to ensure the validity of the NkResearch."
   ]
  },
  {
   "cell_type": "markdown",
   "id": "aab525e0",
   "metadata": {},
   "source": [
    "## Type I. Differences in Scientific Notation"
   ]
  },
  {
   "cell_type": "code",
   "execution_count": 419,
   "id": "6514260d",
   "metadata": {},
   "outputs": [
    {
     "name": "stdout",
     "output_type": "stream",
     "text": [
      "N,N\u001b[32m-\u001b[0m\u001b[31m－\u001b[0m비스(N\u001b[32m-\u001b[0m\u001b[31m－\u001b[0m아세틸\u001b[32m-\u001b[0m\u001b[31m－\u001b[0m2\u001b[32m-\u001b[0m\u001b[31m－\u001b[0m피롤리돈\u001b[32m-\u001b[0m\u001b[31m－\u001b[0m5\u001b[32m-\u001b[0m\u001b[31m－\u001b[0m카르보닐)\u001b[32m-\u001b[0m\u001b[31m－\u001b[0m2,4\u001b[32m-\u001b[0m\u001b[31m－\u001b[0m디옥소피리미딘의 합성과 분리분석; LD of 8\n",
      "N\u001b[32m-\u001b[0m\u001b[31m－\u001b[0m아세틸\u001b[32m-\u001b[0m\u001b[31m－\u001b[0m2\u001b[32m-\u001b[0m\u001b[31m－\u001b[0m피\u001b[32m톨\u001b[0m\u001b[31m롤\u001b[0m리돈\u001b[32m-\u001b[0m\u001b[31m－\u001b[0m5\u001b[32m-\u001b[0m\u001b[31m－\u001b[0m카르본산의 합성과 분리분석; LD of 6\n",
      "환원성분위기에서 Sr\u001b[32m3\u001b[0m\u001b[31m₃\u001b[0mSiO\u001b[32m5：\u001b[0m\u001b[31m₅ : \u001b[0mEu\u001b[32m2+\u001b[0m\u001b[31m²⁺\u001b[0m형광체의 직접합성; LD of 7\n",
      "N,N\u001b[32m''-\u001b[0m\u001b[31m′′－\u001b[0m메틸렌\u001b[32m-\u001b[0m\u001b[31m－\u001b[0m비스[N\u001b[32m'-\u001b[0m\u001b[31m′－\u001b[0m(3\u001b[32m-\u001b[0m\u001b[31m－\u001b[0m히드록시메틸\u001b[32m-\u001b[0m\u001b[31m－\u001b[0m2,5\u001b[32m-\u001b[0m\u001b[31m－\u001b[0m디옥소\u001b[32m-\u001b[0m\u001b[31m－\u001b[0m4\u001b[32m-\u001b[0m\u001b[31m－\u001b[0m이미다졸리디닐)]뇨소의 합성; LD of 11\n",
      "백색LED용 Li\u001b[32m₂\u001b[0m\u001b[31m2\u001b[0mSrSiO\u001b[32m₄ : \u001b[0m\u001b[31m4：\u001b[0mEu\u001b[32m²⁺\u001b[0m\u001b[31m2＋\u001b[0m황색형광체의 구조와 발광특성; LD of 7\n",
      "웃전환형광성을 가진 NaGdF\u001b[32m₄ : \u001b[0m\u001b[31m4：\u001b[0mYb\u001b[32m³⁺\u001b[0m\u001b[31m3+\u001b[0m,Er\u001b[32m³⁺\u001b[0m\u001b[31m3+\u001b[0m 나노립자의 용매열합성; LD of 8\n",
      "1,3\u001b[32m-\u001b[0m\u001b[31m－\u001b[0m비스(2\u001b[32m-\u001b[0m\u001b[31m－\u001b[0m(4\u001b[32m-\u001b[0m\u001b[31m－\u001b[0m에틸피페라진\u001b[32m-\u001b[0m\u001b[31m－\u001b[0m1\u001b[32m-1\u001b[0m\u001b[31m－\u001b[0m일)\u001b[32m-\u001b[0m\u001b[31m－\u001b[0m2\u001b[32m-\u001b[0m\u001b[31m－\u001b[0m옥소에틸)피리미딘\u001b[32m-\u001b[0m\u001b[31m－\u001b[0m2,4\u001b[32m-\u001b[0m\u001b[31m－\u001b[0m디온의 합성과 분리분석에 대한 연구; LD of 10\n",
      "Ba\u001b[32m₄\u001b[0m\u001b[31m4\u001b[0m(Si\u001b[32m₃\u001b[0m\u001b[31m3\u001b[0mO\u001b[32m₈\u001b[0m\u001b[31m8\u001b[0m)\u001b[32m₂\u001b[0m\u001b[31m2\u001b[0m:Eu\u001b[32m²⁺\u001b[0m\u001b[31m2+\u001b[0m형광체의 합성과 특성에 대한 연구; LD of 6\n",
      "3\u001b[32m-\u001b[0m\u001b[31m－\u001b[0m(안트라센\u001b[32m-\u001b[0m\u001b[31m－\u001b[0m9\u001b[32m-\u001b[0m\u001b[31m－\u001b[0m일)\u001b[32m-\u001b[0m\u001b[31m－\u001b[0m펜탄\u001b[32m-\u001b[0m\u001b[31m－\u001b[0m2,4\u001b[32m-\u001b[0m\u001b[31m－\u001b[0m디온의 합성; LD of 6\n",
      "수열법으로 합성한 KNbWO\u001b[32m₆\u001b[0m\u001b[31m6\u001b[0m·H\u001b[32m₂\u001b[0m\u001b[31m2\u001b[0mO\u001b[32m : \u001b[0m\u001b[31m：\u001b[0mEu\u001b[32m³⁺\u001b[0m\u001b[31m3+\u001b[0m,Tb\u001b[32m³⁺\u001b[0m\u001b[31m3+\u001b[0m의 발광특성; LD of 9\n"
     ]
    }
   ],
   "source": [
    "for i,collection in enumerate(comparison3[:35]):\n",
    "    nkresearch,unikorea = collection[-2:]\n",
    "    for ii,article in enumerate(nkresearch):\n",
    "        lev_dist = levenshtein_distance(article[0],unikorea[ii][0])\n",
    "        if lev_dist > 5:\n",
    "            print (diff_strings(article[0],unikorea[ii][0])+\"; LD of\",lev_dist)"
   ]
  },
  {
   "cell_type": "markdown",
   "id": "73936736",
   "metadata": {},
   "source": [
    "For instance, while the title & author combination as shown below appear identical, but the recurring difference in symbols used in the line notation, such as － & - and ′ & ', account for a levenshtein of distance 11, one of the highest values."
   ]
  },
  {
   "cell_type": "code",
   "execution_count": 420,
   "id": "ba34fd08",
   "metadata": {},
   "outputs": [
    {
     "data": {
      "text/html": [
       "<style  type=\"text/css\" >\n",
       "</style><table id=\"T_865a1_\" style=\"font-size: 12px\"><thead>    <tr>        <th class=\"blank level0\" ></th>        <th class=\"col_heading level0 col0\" >NkResearch</th>        <th class=\"col_heading level0 col1\" >UniKorea</th>    </tr></thead><tbody>\n",
       "                <tr>\n",
       "                        <th id=\"T_865a1_level0_row0\" class=\"row_heading level0 row0\" >Title</th>\n",
       "                        <td id=\"T_865a1_row0_col0\" class=\"data row0 col0\" >N,N′′－메틸렌－비스[N′－(3－히드록시메틸－2,5－디옥소－4－이미다졸리디닐)]뇨소의 합성</td>\n",
       "                        <td id=\"T_865a1_row0_col1\" class=\"data row0 col1\" >N,N''-메틸렌-비스[N'-(3-히드록시메틸-2,5-디옥소-4-이미다졸리디닐)]뇨소의 합성</td>\n",
       "            </tr>\n",
       "            <tr>\n",
       "                        <th id=\"T_865a1_level0_row1\" class=\"row_heading level0 row1\" >Author</th>\n",
       "                        <td id=\"T_865a1_row1_col0\" class=\"data row1 col0\" >한문국,조완성,황명조</td>\n",
       "                        <td id=\"T_865a1_row1_col1\" class=\"data row1 col1\" >한문국,조완성,황명조</td>\n",
       "            </tr>\n",
       "    </tbody></table>"
      ],
      "text/plain": [
       "<pandas.io.formats.style.Styler at 0x7f8595011130>"
      ]
     },
     "execution_count": 420,
     "metadata": {},
     "output_type": "execute_result"
    }
   ],
   "source": [
    "df = pd.DataFrame([collection[19] for collection in comparison3[32][-2:]],index=[\"NkResearch\",\"UniKorea\"],columns=['Title', 'Author']).T\n",
    "df = df.style.set_table_attributes('style=\"font-size: 12px\"')\n",
    "df"
   ]
  },
  {
   "cell_type": "markdown",
   "id": "6314e485",
   "metadata": {},
   "source": [
    "## Type II: Differences in Unicode Special Characters\n",
    "Similar to above, UniKorea's usage of \"<<\" in place of the article's original use of \"《\" accounts for much of the differences."
   ]
  },
  {
   "cell_type": "code",
   "execution_count": 421,
   "id": "39c9941b",
   "metadata": {},
   "outputs": [
    {
     "name": "stdout",
     "output_type": "stream",
     "text": [
      "\u001b[32m<<\u001b[0m\u001b[31m《\u001b[0m수서\u001b[32m>>\u001b[0m\u001b[31m》\u001b[0m고려(고구려)전의 사료적가치와 제한성\n",
      "미국과 남조선괴뢰당국이 주장하는 \u001b[32m<<\u001b[0m\u001b[31m《\u001b[0m북방한계선\u001b[32m>>\u001b[0m\u001b[31m》\u001b[0m은 불법무효한 유령선\n",
      "석기를 통하여 본 금옥동굴\u001b[32m문화\u001b[0m유적\u001b[31m문화\u001b[0m층의 시기에 대한 리해\n",
      "일제가 조작한 \u001b[32m<<\u001b[0m\u001b[31m《\u001b[0m신치안유지법\u001b[32m>>\u001b[0m\u001b[31m》\u001b[0m의 반동성\n",
      "자본주의나라 형법에서 주장하는 \u001b[32m<<\u001b[0m\u001b[31m《\u001b[0m기대가능성\u001b[32m>>\u001b[0m\u001b[31m》\u001b[0m론의 반동성\n",
      "조선봉건왕조시기 \u001b[32m<<\u001b[0m\u001b[31m《\u001b[0m10악\u001b[32m>>\u001b[0m\u001b[31m》\u001b[0m에 포함된 \u001b[32m본\u001b[0m\u001b[31m봉\u001b[0m건적례의\u001b[32m \u001b[0m질서를 침해하는 죄와 형사책임의 반동성\n",
      "\u001b[32m<<\u001b[0m\u001b[31m《\u001b[0m창씨개명\u001b[32m>>\u001b[0m\u001b[31m》\u001b[0m을 통해 본 일제의 \u001b[32m<<\u001b[0m\u001b[31m《\u001b[0m황국신민화\u001b[32m>>\u001b[0m\u001b[31m》\u001b[0m정책의 반동적본질\n",
      "\u001b[32m<<\u001b[0m\u001b[31m《\u001b[0m해동\u001b[32m>>\u001b[0m\u001b[31m》\u001b[0m표기를 통해 본 고구려의 민족별소속문제에 대하여\n",
      "미제가 떠벌이는 \u001b[32m<<\u001b[0m\u001b[31m《\u001b[0m인권옹호\u001b[32m>>\u001b[0m\u001b[31m》\u001b[0m의 반동성\n"
     ]
    }
   ],
   "source": [
    "for collection in comparison3[67:69]:\n",
    "    nkresearch,unikorea = collection[-2:]\n",
    "    for i,article in enumerate(nkresearch):\n",
    "        lev_dist = levenshtein_distance(article[0],unikorea[i][0])\n",
    "        if lev_dist > 3:\n",
    "            print (diff_strings(article[0],unikorea[i][0]))"
   ]
  },
  {
   "cell_type": "markdown",
   "id": "d751e5e2",
   "metadata": {},
   "source": [
    "## Type III. UniKorea's exclusion of word parts\n",
    "UniKorea occasionally missed some parts of the title, accounting for some of the largest levenshtein distances (>11)."
   ]
  },
  {
   "cell_type": "code",
   "execution_count": 422,
   "id": "b1089942",
   "metadata": {},
   "outputs": [
    {
     "name": "stdout",
     "output_type": "stream",
     "text": [
      "\u001b[31m일반화된 해석정밀형삽입원자방법에 의한 \u001b[0mZr의 포논분산특성연구\n",
      "\u001b[31m고에네르기전자에 의한 유전체의 깊은층\u001b[0m충전전기마당모의계산\n",
      "프랑스어동사 \u001b[31m《avoir(소유하다)》\u001b[0m의 의미적기능에 대한 리해\n",
      "\u001b[31m압전초음파복합변환자의 공진주파수에 \u001b[0m미치는 부하의 영향\n",
      "\u001b[31m나노메터대역의 미소진동변위측정을 위한 \u001b[0m마이켈손형현미간섭계의 구성\n",
      "\u001b[31m주기점을 가지지 않는 원둘레넘기기로부터 유도된 \u001b[0m초공간력학계의 ω-극한모임에 대한 연구\n"
     ]
    }
   ],
   "source": [
    "for collection in comparison3[:130]:\n",
    "    nkresearch,unikorea = collection[-2:]\n",
    "    for i,article in enumerate(nkresearch):\n",
    "        lev_dist = levenshtein_distance(article[0],unikorea[i][0])\n",
    "        if lev_dist > 11:\n",
    "            print (diff_strings(article[0],unikorea[i][0]))"
   ]
  },
  {
   "cell_type": "markdown",
   "id": "2565c6bf",
   "metadata": {},
   "source": [
    "However, manually checking the associated PDF of the article verified that these \"missed\" title parts tended to be multi-lined titles in which a row, or multiple rows, were eliminated. For instance, the official listing for the first title is viewable at http://www.ryongnamsan.edu.kp/univ/plugins/pdfviewer/web/viewer.html?file=1a77befc3b608d6ed363567685f70e1ekoj, and confirms UniKorea's incomplete multi-lined title."
   ]
  },
  {
   "cell_type": "markdown",
   "id": "fc3db899",
   "metadata": {},
   "source": [
    "## Type IV. UniKorea's Typos\n",
    "Though accounting for a relatively smaller Levenshtein distance, there are occasional \"replacements\"; examining these errors, it seems most arise from errors in manual labor, which there is little room in NkResearch's programmatically generated metadata. For instance, in\n"
   ]
  },
  {
   "cell_type": "code",
   "execution_count": 423,
   "id": "f346ebdc",
   "metadata": {},
   "outputs": [
    {
     "name": "stdout",
     "output_type": "stream",
     "text": [
      "\u001b[32mfrnwhanf\u001b[0m\u001b[31mㄹ구조물\u001b[0m의 유한요소해석에 대한 연구\n",
      "Levenshtein Distance of: 8\n"
     ]
    }
   ],
   "source": [
    "nkresearch,unikorea = comparison3[129][-2:]\n",
    "print (diff_strings(nkresearch[19][0],unikorea[19][0]))\n",
    "print (\"Levenshtein Distance of:\",levenshtein_distance(nkresearch[19][0],unikorea[19][0]))"
   ]
  },
  {
   "cell_type": "markdown",
   "id": "2b449a43",
   "metadata": {},
   "source": [
    "we see that English was accidentally used in place of the Korean qwerty keys, accounting for a relatively high distance of 8. Though the string \"frnwhanf\" is equal to \"ㄹ구조물의\" on the keyboard layout, this issue is highly unlikely to arise during automated processing."
   ]
  },
  {
   "cell_type": "code",
   "execution_count": 424,
   "id": "22994487",
   "metadata": {},
   "outputs": [
    {
     "name": "stdout",
     "output_type": "stream",
     "text": [
      "제2차 세계대전의 전패국-도이췰\u001b[32m한\u001b[0m\u001b[31m란\u001b[0m드와 일본의 과거청산에 대한 비교분석\n",
      "17세기 후반기이후 화\u001b[32m폐\u001b[0m\u001b[31m페\u001b[0m류통에 대한 실학자들의 견해와 그 진보성\n",
      "우리 나라에서 자본주의화\u001b[32m폐\u001b[0m\u001b[31m페\u001b[0m제도의 발생발전과 그것을 저해한 일본침략자들의 책동\n",
      "\u001b[32m북\u001b[0m남\u001b[32m력\u001b[0m\u001b[31m북련\u001b[0m석회\u001b[32m릐\u001b[0m\u001b[31m의\u001b[0m는 통일애국의 기치아래 민족의 대단결을 실현하기 위한 력사적인 민족적회합\n",
      "위대한 령도자 김정일동지께서 1980년대 혁명발전의 요구에 맞게 일하면서 배우는 고등교육체계를 더욱 발전시키도록 이끄신 현\u001b[32m령\u001b[0m\u001b[31m명\u001b[0m한 령도\n",
      "위대한 \u001b[32m형\u001b[0m\u001b[31m령\u001b[0m도자 김정일동지께서 선\u001b[32m국\u001b[0m\u001b[31m군\u001b[0m혁명령도의 계승문제를 \u001b[32m빝\u001b[0m\u001b[31m빛\u001b[0m나게 해결하신 불멸의 업적\n",
      "위대한 령도자 김정일동지께서 조\u001b[32m작\u001b[0m\u001b[31m직\u001b[0m령도하신 고난의 행군, 강행군시기 룡문대굴을 비롯한 나라의 명승지들을 세계적인 명승지로 꾸리기 위한 투쟁\n",
      "위대한 령도자 김정일동지께서 조직령도하신 민족유산보호\u001b[32m \u001b[0m부문에서 반당반혁명분자들의 사상여독을 청산하고 당의 유일사상체계를 세우기 위한 투쟁\n",
      "위대한 수령 김일성동지의 현명한 령도밑에 새 조국건설시기 청년들속에서 증산경\u001b[32m재\u001b[0m\u001b[31m쟁\u001b[0m운동을 힘차게 조직전개하기 위한 민청단체들의 투쟁\n",
      "위대한 수령 김일성동지의 현명한 령도밑에 조국해방\u001b[32m \u001b[0m전쟁시기 세계 진보적청년들과의 련대성을 강화하기 위한 청년동맹대외활동\n",
      "위대한 수령 김일성\u001b[32m종\u001b[0m\u001b[31m동\u001b[0m지의 현명한 령도밑에 조국해방전쟁시기 우리 인민\u001b[32m국\u001b[0m\u001b[31m군\u001b[0m장병들과 인민들이 발휘한 영웅적투쟁\n",
      "랭전종식후 미제가 감행한 남조선괴뢰들의 군사장비\u001b[32m \u001b[0m현대화책동의 특징\n",
      "미제\u001b[32m으<<\u001b[0m\u001b[31m의 《\u001b[0m태평양국가\u001b[32m>>\u001b[0m\u001b[31m》\u001b[0m론과 그 위험성\n",
      "소할바령회의는 항일무장투쟁이 종국적\u001b[32m증\u001b[0m\u001b[31m승\u001b[0m리를 위한 새로운 력사적단계에로 확신성있게 들어설수 있게 한 력사적인 회의\n",
      "위대한 김정일동지께서 1980년대 군중문\u001b[32m화\u001b[0m\u001b[31m학\u001b[0m창작에서 새로운 앙양을 일으\u001b[32m시킨\u001b[0m\u001b[31m키신\u001b[0m 현명한 령도\n",
      "위대한 김정일동지께서 경제선동의 북소리 높이 \u001b[32m올\u001b[0m\u001b[31m울\u001b[0m려 선군혁명\u001b[32m종\u001b[0m\u001b[31m총\u001b[0m진군을 힘있게 추동하도록 이끄신 현명한 령도\n",
      "\u001b[32m<<\u001b[0m\u001b[31m《\u001b[0m송서\u001b[32m>>\u001b[0m\u001b[31m》\u001b[0m고구려\u001b[31m국\u001b[0m전의 사료적가치와 제한성\n",
      "문화교류를 통한 대외\u001b[32m전\u001b[0m선\u001b[31m전\u001b[0m사업을 현명하게 이끄신 위대한 김정일동지의 불멸의 령도\n"
     ]
    }
   ],
   "source": [
    "# More examples\n",
    "collection_list = [[1,3,50,0],[62,63,19,18],[67,68,26,18],[70,74,26,16]]\n",
    "for x,y,z,k in collection_list:\n",
    "    for collection in comparison3[x:y]:\n",
    "        nkresearch,unikorea = collection[-2:]\n",
    "        for i,article in enumerate(nkresearch[k:z]):\n",
    "            lev_dist = levenshtein_distance(article[0],unikorea[i+k][0])\n",
    "            if lev_dist > 0:\n",
    "                print (diff_strings(article[0],unikorea[i+k][0]))"
   ]
  },
  {
   "cell_type": "markdown",
   "id": "0adf29c6",
   "metadata": {},
   "source": [
    "For instance, in this one title alone,"
   ]
  },
  {
   "cell_type": "code",
   "execution_count": 425,
   "id": "f199d9e0",
   "metadata": {},
   "outputs": [
    {
     "name": "stdout",
     "output_type": "stream",
     "text": [
      "위대한 \u001b[32m형\u001b[0m\u001b[31m령\u001b[0m도자 김정일동지께서 선\u001b[32m국\u001b[0m\u001b[31m군\u001b[0m혁명령도의 계승문제를 \u001b[32m빝\u001b[0m\u001b[31m빛\u001b[0m나게 해결하신 불멸의 업적\n"
     ]
    }
   ],
   "source": [
    "collection_list = [[67,68,26,18]]\n",
    "for x,y,z,k in collection_list:\n",
    "    for collection in comparison3[x:y]:\n",
    "        nkresearch,unikorea = collection[-2:]\n",
    "        for i,article in enumerate(nkresearch[k:z]):\n",
    "            lev_dist = levenshtein_distance(article[0],unikorea[i+k][0])\n",
    "            if lev_dist > 2:\n",
    "                print (diff_strings(article[0],unikorea[i+k][0]))"
   ]
  },
  {
   "cell_type": "markdown",
   "id": "4cabd6fb",
   "metadata": {},
   "source": [
    "there is an obvious misspelling of \"위대한 령도자\" (\"Our Supreme Leader\") into -> \"위대한 <font color='red'>형</font>도자\" (not a word; 형 means brother),  \"선군\" (\"Songun, North Korea's military ideology\") into -> \"선<font color='red'>국</font>\", and \"빛\" (light) into -> \"<font color='red'>빝</font>\" (not a word). Note that both ㄹ&ㅎ ㅊ&ㅌ are neighbors on the Korean qwerty keyboard."
   ]
  },
  {
   "cell_type": "markdown",
   "id": "899c63a5",
   "metadata": {},
   "source": [
    "Another type of this error seems to arise from North Korean specific languages, in which they were misspelled or incorrectly spelled using the South Korean standard. For instance, in"
   ]
  },
  {
   "cell_type": "code",
   "execution_count": 426,
   "id": "c89faeb3",
   "metadata": {},
   "outputs": [
    {
     "name": "stdout",
     "output_type": "stream",
     "text": [
      "제2차 세계대전의 전패국-도이췰\u001b[32m한\u001b[0m\u001b[31m란\u001b[0m드와 일본의 과거청산에 대한 비교분석; Levenshtein Distance of 1\n",
      "17세기 후반기이후 화\u001b[32m폐\u001b[0m\u001b[31m페\u001b[0m류통에 대한 실학자들의 견해와 그 진보성; Levenshtein Distance of 1\n",
      "우리 나라에서 자본주의화\u001b[32m폐\u001b[0m\u001b[31m페\u001b[0m제도의 발생발전과 그것을 저해한 일본침략자들의 책동; Levenshtein Distance of 1\n"
     ]
    }
   ],
   "source": [
    "e = []\n",
    "for collection in comparison3[1:3]:\n",
    "    nkresearch,unikorea = collection[-2:]\n",
    "    for i,article in enumerate(nkresearch):\n",
    "        lev_dist = levenshtein_distance(article[0],unikorea[i][0])\n",
    "        if article[0] != unikorea[i][0]:\n",
    "            e.append(diff_strings(article[0],unikorea[i][0]))\n",
    "            print (diff_strings(article[0],unikorea[i][0])+\"; Levenshtein Distance of\",levenshtein_distance(article[0],unikorea[i][0]))\n"
   ]
  },
  {
   "cell_type": "markdown",
   "id": "e923a98a",
   "metadata": {},
   "source": [
    "the first line incorrectly used  \"도이췰한드\" in place of \"도이췰란드\", which is North Korean for \"Germany\" (https://ko.dict.naver.com/#/correct/korean/info?seq=1001552). The next two state \"화폐\" (currency) in place of \"화페\", which the National Institute of Korean Language (https://opendict.korean.go.kr/dictionary/view?sense_no=323372&viewType=confirm) confirms it as the North Korean equivalent."
   ]
  },
  {
   "cell_type": "code",
   "execution_count": null,
   "id": "1ee89f51",
   "metadata": {},
   "outputs": [],
   "source": []
  },
  {
   "cell_type": "code",
   "execution_count": null,
   "id": "a4aa2a1a",
   "metadata": {},
   "outputs": [],
   "source": []
  },
  {
   "cell_type": "code",
   "execution_count": null,
   "id": "ff0fae9d",
   "metadata": {},
   "outputs": [],
   "source": []
  },
  {
   "cell_type": "code",
   "execution_count": null,
   "id": "ea90a2ad",
   "metadata": {},
   "outputs": [],
   "source": []
  },
  {
   "cell_type": "code",
   "execution_count": null,
   "id": "8c76ab16",
   "metadata": {},
   "outputs": [],
   "source": []
  },
  {
   "cell_type": "code",
   "execution_count": null,
   "id": "10c7f938",
   "metadata": {},
   "outputs": [],
   "source": []
  },
  {
   "cell_type": "code",
   "execution_count": null,
   "id": "b3608f36",
   "metadata": {},
   "outputs": [],
   "source": []
  },
  {
   "cell_type": "code",
   "execution_count": 427,
   "id": "045f9d99",
   "metadata": {},
   "outputs": [
    {
     "name": "stdout",
     "output_type": "stream",
     "text": [
      "N,N\u001b[32m''-\u001b[0m\u001b[31m′′－\u001b[0m메틸렌\u001b[32m-\u001b[0m\u001b[31m－\u001b[0m비스[N\u001b[32m'-\u001b[0m\u001b[31m′－\u001b[0m(3\u001b[32m-\u001b[0m\u001b[31m－\u001b[0m히드록시메틸\u001b[32m-\u001b[0m\u001b[31m－\u001b[0m2,5\u001b[32m-\u001b[0m\u001b[31m－\u001b[0m디옥소\u001b[32m-\u001b[0m\u001b[31m－\u001b[0m4\u001b[32m-\u001b[0m\u001b[31m－\u001b[0m이미다졸리디닐)]뇨소의 합성\n",
      "1,3\u001b[32m-\u001b[0m\u001b[31m－\u001b[0m비스(2\u001b[32m-\u001b[0m\u001b[31m－\u001b[0m(4\u001b[32m-\u001b[0m\u001b[31m－\u001b[0m에틸피페라진\u001b[32m-\u001b[0m\u001b[31m－\u001b[0m1\u001b[32m-1\u001b[0m\u001b[31m－\u001b[0m일)\u001b[32m-\u001b[0m\u001b[31m－\u001b[0m2\u001b[32m-\u001b[0m\u001b[31m－\u001b[0m옥소에틸)피리미딘\u001b[32m-\u001b[0m\u001b[31m－\u001b[0m2,4\u001b[32m-\u001b[0m\u001b[31m－\u001b[0m디온의 합성과 분리분석에 대한 연구\n",
      "수열법으로 합성한 KNbWO\u001b[32m₆\u001b[0m\u001b[31m6\u001b[0m·H\u001b[32m₂\u001b[0m\u001b[31m2\u001b[0mO\u001b[32m : \u001b[0m\u001b[31m：\u001b[0mEu\u001b[32m³⁺\u001b[0m\u001b[31m3+\u001b[0m,Tb\u001b[32m³⁺\u001b[0m\u001b[31m3+\u001b[0m의 발광특성\n",
      "금강석합성에 리용되는 Ni\u001b[32m₄₀\u001b[0m\u001b[31m40\u001b[0mMn\u001b[32m₃₀\u001b[0m\u001b[31m30\u001b[0mFe\u001b[32m₃₀\u001b[0m\u001b[31m30\u001b[0m, Ni\u001b[32m₇₀\u001b[0m\u001b[31m70\u001b[0mMn\u001b[32m₂₅\u001b[0m\u001b[31m25\u001b[0mCo\u001b[32m₅\u001b[0m\u001b[31m5\u001b[0m합금촉매의 금속학적특성\n",
      "\u001b[31m일반화된 해석정밀형삽입원자방법에 의한 \u001b[0mZr의 포논분산특성연구\n",
      "\u001b[31m고에네르기전자에 의한 유전체의 깊은층\u001b[0m충전전기마당모의계산\n",
      "γ선측정법에 기초한 \u001b[32m²³¹\u001b[0m\u001b[31m231\u001b[0mPa/\u001b[32m²³⁵\u001b[0m\u001b[31m \u001b[0mU\u001b[31m235 \u001b[0m년대결정방법\n",
      "\u001b[32m<<구\u001b[0m\u001b[31m《규\u001b[0m원사화\u001b[32m>>\u001b[0m\u001b[31m》\u001b[0m에 반영된 \u001b[32m<<\u001b[0m\u001b[31m《\u001b[0m단군8조\u001b[32m>>\u001b[0m\u001b[31m》\u001b[0m에 대한 분석\n",
      "현시기 품질관리개선\u001b[32m의\u001b[0m\u001b[31m에서\u001b[0m \u001b[32m방법론적\u001b[0m\u001b[31m나서는 중요한 \u001b[0m문제\n",
      "프랑스어동사 \u001b[31m《avoir(소유하다)》\u001b[0m의 의미적기능에 대한 리해\n",
      "1, 2, 3, 4\u001b[32m-\u001b[0m\u001b[31m－\u001b[0m테트라히드로\u001b[32m-\u001b[0m\u001b[31m－\u001b[0m1\u001b[32m-\u001b[0m\u001b[31m－\u001b[0m(4\u001b[32m'-\u001b[0m\u001b[31m´－\u001b[0m메톡시페닐)\u001b[32m-\u001b[0m\u001b[31m－\u001b[0m9H\u001b[32m-\u001b[0m\u001b[31m－\u001b[0m피리도[3, 4\u001b[32m-\u001b[0m\u001b[31m－\u001b[0mb]\u001b[32m-\u001b[0m\u001b[31m－\u001b[0m인돌\u001b[32m-\u001b[0m\u001b[31m－\u001b[0m3\u001b[32m-\u001b[0m\u001b[31m－\u001b[0m카르본산메틸에스테르의 합성\n",
      "\u001b[31m압전초음파복합변환자의 공진주파수에 \u001b[0m미치는 부하의 영향\n",
      "Pb(Mn\u001b[32m⅓\u001b[0m\u001b[31m1/3\u001b[0mNb\u001b[32m⅔\u001b[0m\u001b[31m2/3\u001b[0m)O\u001b[32m₃\u001b[0m\u001b[31m3\u001b[0m-PbZrO\u001b[32m₃\u001b[0m\u001b[31m3\u001b[0m-PbTiO\u001b[32m₃\u001b[0m\u001b[31m3\u001b[0m강유전재료의 유전 및 전기리력특성\n",
      "\u001b[31m나노메터대역의 미소진동변위측정을 위한 \u001b[0m마이켈손형현미간섭계의 구성\n",
      "\u001b[31m주기점을 가지지 않는 원둘레넘기기로부터 유도된 \u001b[0m초공간력학계의 ω-극한모임에 대한 연구\n",
      "프레임과 가우스분포의 동시선택에 의한 본문독립발성자\u001b[32m자\u001b[0m인증속도\u001b[31m개선에 대한 연구\u001b[0m\n",
      "\u001b[32m축차징후무게법의 \u001b[0m\u001b[31m청파대동굴퇴\u001b[0m적\u001b[32m용\u001b[0m\u001b[31m층\u001b[0m에서 알려진 제4기 포분화석에 의한 옛 기후환경연구\n",
      "축차징후무게법의 적용에서 \u001b[32m알려진\u001b[0m\u001b[31m징후자료의\u001b[0m \u001b[32m제4기 포분화석\u001b[0m\u001b[31m중첩순서\u001b[0m에 \u001b[32m의\u001b[0m\u001b[31m대\u001b[0m한 \u001b[32m옛 기후환경\u001b[0m연구\n",
      "무선수감마디에서 전력소비감소를 위한 \u001b[32m수\u001b[0m\u001b[31m깨우기일\u001b[0m정\u001b[32m된\u001b[0m\u001b[31m작성의\u001b[0m \u001b[31m한\u001b[0m가\u001b[32m속호모토피섭동\u001b[0m\u001b[31m지 방\u001b[0m법\n",
      "GSP도표를 리용한 학생능력 및 문제\u001b[31m난도평가의 한가지 방법\u001b[0m\n"
     ]
    }
   ],
   "source": [
    "for collection in comparison3:\n",
    "    nkresearch,unikorea = collection[-2:]\n",
    "    for i,article in enumerate(nkresearch):\n",
    "        lev_dist = levenshtein_distance(article[0],unikorea[i][0])\n",
    "        if lev_dist > 8:\n",
    "            print (diff_strings(article[0],unikorea[i][0]))"
   ]
  },
  {
   "cell_type": "code",
   "execution_count": null,
   "id": "15385fb1",
   "metadata": {},
   "outputs": [],
   "source": []
  },
  {
   "cell_type": "code",
   "execution_count": null,
   "id": "a5a67077",
   "metadata": {},
   "outputs": [],
   "source": []
  },
  {
   "cell_type": "code",
   "execution_count": null,
   "id": "cb8a2625",
   "metadata": {},
   "outputs": [],
   "source": []
  },
  {
   "cell_type": "code",
   "execution_count": null,
   "id": "881ecf9a",
   "metadata": {},
   "outputs": [],
   "source": []
  },
  {
   "cell_type": "code",
   "execution_count": null,
   "id": "f6421da9",
   "metadata": {},
   "outputs": [],
   "source": []
  },
  {
   "cell_type": "code",
   "execution_count": null,
   "id": "854c95c9",
   "metadata": {},
   "outputs": [],
   "source": []
  },
  {
   "cell_type": "code",
   "execution_count": null,
   "id": "5429b5da",
   "metadata": {},
   "outputs": [],
   "source": []
  }
 ],
 "metadata": {
  "kernelspec": {
   "display_name": "Python 3",
   "language": "python",
   "name": "python3"
  },
  "language_info": {
   "codemirror_mode": {
    "name": "ipython",
    "version": 3
   },
   "file_extension": ".py",
   "mimetype": "text/x-python",
   "name": "python",
   "nbconvert_exporter": "python",
   "pygments_lexer": "ipython3",
   "version": "3.8.8"
  }
 },
 "nbformat": 4,
 "nbformat_minor": 5
}
